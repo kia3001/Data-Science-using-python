{
 "cells": [
  {
   "cell_type": "code",
   "execution_count": 1,
   "id": "3823c533",
   "metadata": {},
   "outputs": [
    {
     "name": "stdout",
     "output_type": "stream",
     "text": [
      "2401\n"
     ]
    }
   ],
   "source": [
    "# q1\n",
    "n=7**4\n",
    "print(n)"
   ]
  },
  {
   "cell_type": "code",
   "execution_count": 2,
   "id": "8a30c27e",
   "metadata": {},
   "outputs": [
    {
     "name": "stdout",
     "output_type": "stream",
     "text": [
      "['hi', 'there', 'sam!']\n"
     ]
    }
   ],
   "source": [
    "# q2 split this string: s =\"Hi there sam!\" into a list\n",
    "s = \"hi there sam!\"\n",
    "word_list = s.split()\n",
    "print(word_list)"
   ]
  },
  {
   "cell_type": "code",
   "execution_count": 3,
   "id": "baca1c8e",
   "metadata": {},
   "outputs": [
    {
     "name": "stdout",
     "output_type": "stream",
     "text": [
      "The diameter of Earth is 12742km\n"
     ]
    }
   ],
   "source": [
    "# q3 Given the variables: planet = \"Earth\" diameter = 12742 Use .formate() to print  the following string: The diameter of Earth is 12742km\n",
    "planet = \"Earth\"\n",
    "diameter = 12742\n",
    "\n",
    "o_string = \"The diameter of {} is {}km\".format(planet, diameter)\n",
    "print(o_string)"
   ]
  },
  {
   "cell_type": "code",
   "execution_count": 4,
   "id": "dc94f0ba",
   "metadata": {},
   "outputs": [
    {
     "name": "stdout",
     "output_type": "stream",
     "text": [
      "['hello']\n"
     ]
    }
   ],
   "source": [
    "# q4 Gien  this nested list, use indexing to grab the word \"hello\" \n",
    "# list=[1,2,[3,4],[5,[100,200,\"hello\"]],23,11],1,7]\n",
    "my_list = [1, 2, [3, 4], [5, [100, 200, ['hello']], 23, 11], 1, 7]\n",
    "a = my_list[3][1][2]\n",
    "print(a)"
   ]
  },
  {
   "cell_type": "code",
   "execution_count": 5,
   "id": "cb3d8bea",
   "metadata": {},
   "outputs": [
    {
     "name": "stdout",
     "output_type": "stream",
     "text": [
      "hello\n"
     ]
    }
   ],
   "source": [
    "#q5\n",
    "d={\"k1\":[1,2,3,{'tricy':['oh','man','inception',{'target':[1,2,3,'hello']}]}]}\n",
    "a=d['k1'][3]['tricy'][3]['target'][3]\n",
    "print(a)"
   ]
  },
  {
   "cell_type": "code",
   "execution_count": 6,
   "id": "b3f6ba31",
   "metadata": {},
   "outputs": [
    {
     "name": "stdout",
     "output_type": "stream",
     "text": [
      "domain.com\n"
     ]
    }
   ],
   "source": [
    "# q7 Function to grab the emali website domain\n",
    "def grab(email):\n",
    "    return email.split('@')[1]\n",
    "\n",
    "email_address = \"user@domain.com\"\n",
    "domain = grab(email_address)\n",
    "print(domain)"
   ]
  },
  {
   "cell_type": "code",
   "execution_count": 7,
   "id": "ef616275",
   "metadata": {},
   "outputs": [
    {
     "name": "stdout",
     "output_type": "stream",
     "text": [
      "True\n"
     ]
    }
   ],
   "source": [
    "# q8 create a basic function that returns true if the world 'dog' is contained in the input string, \n",
    "#Don't worry about edge cases like a punctuation being attached to the word dog, but do account\n",
    "# for capitalization.: findDog('Is there a dog here?)\n",
    "\n",
    "def find(input):\n",
    "    return 'dog' in input.lower()\n",
    "\n",
    "a=\"Is there a dog here?\"\n",
    "print(find(a))"
   ]
  },
  {
   "cell_type": "code",
   "execution_count": 1,
   "id": "9a973096",
   "metadata": {},
   "outputs": [
    {
     "ename": "NameError",
     "evalue": "name 'students' is not defined",
     "output_type": "error",
     "traceback": [
      "\u001b[1;31m---------------------------------------------------------------------------\u001b[0m",
      "\u001b[1;31mNameError\u001b[0m                                 Traceback (most recent call last)",
      "Cell \u001b[1;32mIn[1], line 2\u001b[0m\n\u001b[0;32m      1\u001b[0m \u001b[38;5;66;03m#1 sample  example for oop concepts\u001b[39;00m\n\u001b[1;32m----> 2\u001b[0m \u001b[38;5;28;43;01mclass\u001b[39;49;00m\u001b[43m \u001b[49m\u001b[38;5;21;43;01mstudents\u001b[39;49;00m\u001b[43m:\u001b[49m\n\u001b[0;32m      3\u001b[0m \u001b[43m    \u001b[49m\u001b[43mcourse\u001b[49m\u001b[43m \u001b[49m\u001b[38;5;241;43m=\u001b[39;49m\u001b[38;5;124;43m\"\u001b[39;49m\u001b[38;5;124;43mBCA\u001b[39;49m\u001b[38;5;124;43m\"\u001b[39;49m\n\u001b[0;32m      4\u001b[0m \u001b[43m    \u001b[49m\u001b[38;5;28;43;01mdef\u001b[39;49;00m\u001b[43m \u001b[49m\u001b[38;5;21;43m__init__\u001b[39;49m\u001b[43m(\u001b[49m\u001b[38;5;28;43mself\u001b[39;49m\u001b[43m)\u001b[49m\u001b[43m:\u001b[49m\n",
      "Cell \u001b[1;32mIn[1], line 16\u001b[0m, in \u001b[0;36mstudents\u001b[1;34m()\u001b[0m\n\u001b[0;32m     13\u001b[0m     \u001b[38;5;28mprint\u001b[39m(\u001b[38;5;28mself\u001b[39m\u001b[38;5;241m.\u001b[39mname,\u001b[38;5;124m\"\u001b[39m\u001b[38;5;124m'\u001b[39m\u001b[38;5;124ms id is\u001b[39m\u001b[38;5;124m\"\u001b[39m,\u001b[38;5;28mself\u001b[39m\u001b[38;5;241m.\u001b[39ms_id,\u001b[38;5;124m\"\u001b[39m\u001b[38;5;124mand mobile number is \u001b[39m\u001b[38;5;124m\"\u001b[39m,\u001b[38;5;28mself\u001b[39m\u001b[38;5;241m.\u001b[39mmob)   \n\u001b[0;32m     15\u001b[0m \u001b[38;5;66;03m## kiya=students()\u001b[39;00m\n\u001b[1;32m---> 16\u001b[0m kiya\u001b[38;5;241m=\u001b[39m\u001b[43mstudents\u001b[49m(\u001b[38;5;124m\"\u001b[39m\u001b[38;5;124mkiya\u001b[39m\u001b[38;5;124m\"\u001b[39m,\u001b[38;5;241m112\u001b[39m,\u001b[38;5;241m9832044937\u001b[39m)\n\u001b[0;32m     17\u001b[0m kiya\u001b[38;5;241m.\u001b[39mdisplay \u001b[38;5;66;03m##method call\u001b[39;00m\n\u001b[0;32m     18\u001b[0m \u001b[38;5;28mprint\u001b[39m(\u001b[38;5;124m\"\u001b[39m\u001b[38;5;124mThese are\u001b[39m\u001b[38;5;124m\"\u001b[39m, students\u001b[38;5;241m.\u001b[39mcourse,\u001b[38;5;124m\"\u001b[39m\u001b[38;5;124mstudents\u001b[39m\u001b[38;5;124m\"\u001b[39m)\n",
      "\u001b[1;31mNameError\u001b[0m: name 'students' is not defined"
     ]
    }
   ],
   "source": [
    "#1 sample  example for oop concepts\n",
    "class students:\n",
    "    course =\"BCA\"\n",
    "    def __init__(self):\n",
    "        print(\"inside default constructor\")\n",
    "     ##constructor\n",
    "    def __init__(self,name,s_id,mob):\n",
    "        self.name=name\n",
    "        self.s_id=s_id\n",
    "        self.mob=mob\n",
    "        print(\"Inside the  parameterised constructor\")\n",
    "    def display(self): ## method\n",
    "        print(self.name,\"'s id is\",self.s_id,\"and mobile number is \",self.mob)   \n",
    "\n",
    "    ## kiya=students()\n",
    "    kiya=students(\"kiya\",112,9832044937)\n",
    "    kiya.display ##method call\n",
    "    print(\"These are\", students.course,\"students\") #class call\n",
    "\n",
    "\n"
   ]
  },
  {
   "cell_type": "code",
   "execution_count": null,
   "id": "90ac9348",
   "metadata": {
    "scrolled": true
   },
   "outputs": [],
   "source": [
    "class employees:\n",
    "    def __init__(self):\n",
    "       self.empid=input(\"Enter your id:\")\n",
    "       self.name=input(\"Enter your name:\")\n",
    "       self.salary=int(input(\"Enter your salary:\"))\n",
    "       self.number_of_exp=int(input(\"Enter your experience:\"))\n",
    "       self.hra=0\n",
    "       self.DA=0\n",
    "       self.pf=0\n",
    "       self.bonus=0\n",
    "       self.net_salary=0\n",
    "       print(\"inside init\")\n",
    "    def calhra(self):\n",
    "        self.hra = 0.35 * self.salary\n",
    "        print(self.hra)\n",
    "    def calDA(self):\n",
    "        self.DA = 0.58 * self.salary\n",
    "        print(\"DA\",self.DA)\n",
    "    def calpf(self):\n",
    "        self.pf = 0.095 * self.salary\n",
    "        print(\"pf\",self.pf)\n",
    "    def calbonus(self):\n",
    "        if self.number_of_exp >= 30:\n",
    "            self.bonus = 0.59 * self.salary\n",
    "            print(\"bonus:\",self.bonus)\n",
    "        elif self.number_of_exp >=23:\n",
    "            self.bonus = 0.51 * self.salary\n",
    "            print(\"bonus:\",self.bonus)\n",
    "        elif self.number_of_exp >=15:\n",
    "            self.bonus = 0.45 * self.salary\n",
    "            print(\"bonus:\",self.bonus)\n",
    "        elif self.number_of_exp >=7:\n",
    "            self.bonus = 0.33 * self.salary\n",
    "            print(\"bonus:\",self.bonus)\n",
    "        else:\n",
    "            self.bonus = 0.16 * self.salary  \n",
    "            print(\"bonus:\",self.bonus)\n",
    "\n",
    "    def calnetsalary(self):\n",
    "        self.net_salary = self.salary + self.DA + self.hra - self.pf + self.bonus\n",
    "        print(\"net_salary\",self.net_salary)\n",
    "keya=employees()\n",
    "keya.calhra()\n",
    "keya.calDA()\n",
    "keya.calpf()\n",
    "keya.calbonus()\n",
    "keya.calnetsalary()\n",
    "\n",
    "\n",
    "\n",
    "\n",
    "    \n",
    "\n",
    "\n"
   ]
  },
  {
   "cell_type": "code",
   "execution_count": null,
   "id": "cd1b50d0",
   "metadata": {},
   "outputs": [],
   "source": [
    "\n",
    "n = int(input(\"Enter the number of elements: \"))\n",
    "numbers = []\n",
    "for i in range(n):\n",
    "    num = int(input(\"Enter a number: \"))\n",
    "    numbers.append(num)\n",
    "\n",
    "\n",
    "new_list = []\n",
    "for i in range(n // 2):\n",
    "    new_sum = numbers[i] + numbers[n - i - 1]\n",
    "    new_list.append(new_sum)\n",
    "\n",
    "\n",
    "new_list = list(set(new_list))\n",
    "\n",
    "new_tuple = tuple(new_list)\n",
    "print(\"Resulting tuple:\", new_tuple)\n",
    "\n",
    "\n",
    "\n"
   ]
  },
  {
   "cell_type": "code",
   "execution_count": null,
   "id": "b35fa16a",
   "metadata": {},
   "outputs": [],
   "source": [
    "class numbers:\n",
    "    def __init__(self, num=0):\n",
    "        self.num = num\n",
    "    def setnum(self,num):\n",
    "        self.num =  num\n",
    "    def getnum(self):\n",
    "        return self.num\n",
    "    def add(self,n2):\n",
    "        #n3= numbers(self.num + n2.num)\n",
    "        #return n3\n",
    "        return self.num  + n2.num\n",
    "    def power(self,n2):\n",
    "        return self.num ** n2.num\n",
    "    def concatenation(self,n2):\n",
    "        return  str(self.num) + str(n2.num) \n",
    "    def mx(self,n2):\n",
    "        if self.num>n2.num:\n",
    "            return \"n1 is greater\"\n",
    "        else:\n",
    "            return a,\"n2 is greater\"\n",
    "\n",
    "n1 = numbers() #call this in def function \n",
    "n1.setnum(2)\n",
    "print(n1.getnum())\n",
    "n2=numbers()\n",
    "n2.setnum(4)\n",
    "print(n2.getnum())\n",
    "print(n1.add(n2))\n",
    "#n3=n1.add(n2)\n",
    "#n3.getnum()\n",
    "print(n1.add(n2))\n",
    "print(n1.power(n2))\n",
    "print(n1.concatenation(n2))\n",
    "print(n1.mx(n2))\n"
   ]
  },
  {
   "cell_type": "code",
   "execution_count": null,
   "id": "56dc817d",
   "metadata": {
    "scrolled": true
   },
   "outputs": [],
   "source": [
    "# Assignment3 Q1\n",
    "data = [\n",
    "    (12345, \"Diksha\", \"Diksha r@nuv.ac.in\"),\n",
    "    (45667, \"Jiva\", \"Jiva@nuv.ac.in\"),\n",
    "    (16789, \"Ronit\", \"Ronitd@nuv.ac.in\"),\n",
    "    (69433, \"Heena\", \"Heena@nuv.ac.in\")\n",
    "]\n",
    "\n",
    "# Accessing elements of the data structure\n",
    "for item in data:\n",
    "    print(\"ID:\", item[0])\n",
    "    print(\"Name:\", item[1])\n",
    "    print(\"Email:\", item[2])\n",
    "    print()  # Empty line for separation\n"
   ]
  },
  {
   "cell_type": "code",
   "execution_count": null,
   "id": "899cfe45",
   "metadata": {},
   "outputs": [],
   "source": [
    "data = [\n",
    "    (12345, \"Diksha\", \"Diksha r@nuv.ac.in\"),\n",
    "    (45667, \"Jiva\", \"Jiva@nuv.ac.in\"),\n",
    "    (16789, \"Ronit\", \"Ronitd@nuv.ac.in\"),\n",
    "    (69433, \"Heena\", \"Heena@nuv.ac.in\")\n",
    "]\n",
    "sid=12345\n",
    "def ID():\n",
    "    sid=int(input(\"Enter any id:\"))\n",
    "    for  d in data :\n",
    "        #print(d)\n",
    "        if d[0]== sid:\n",
    "            print(d)\n",
    "result=ID()\n",
    "\n",
    "def name():\n",
    "    name=input(\"Enter name:\")\n",
    "    for  d in data :\n",
    "        #print(d)\n",
    "        if d[1]== sid:\n",
    "            print(d)\n",
    "result=name()\n",
    "\n"
   ]
  },
  {
   "cell_type": "code",
   "execution_count": null,
   "id": "0a4c2ba8",
   "metadata": {},
   "outputs": [],
   "source": [
    "Mydict ={\n",
    "\"Enrollment Id\" : [12345,45667,16789,69433],\n",
    "\"Student Name\": [\"Diksha \", \"Jiva\", \"Ronit\", \"Heena\"],\n",
    "\"Email Id \": [\"Diksha r@nuv.ac.in\", \"Jiva@nuv.ac.in\", \"Ronitd@nuv.ac.in\",\n",
    "\"Heena@nuv.ac.in\"]\n",
    "}\n",
    "Mydict[\"Enrollment Id\"][3]\n",
    "value=int(input(\"enter id:\"))\n",
    "for i in range(len(Mydict[\"Enrollment Id\"])): # for id input\n",
    "    if Mydict[\"Enrollment Id\"][i]==value:\n",
    "       # print(Mydict[\"Enrollment Id\"][i])\n",
    "        #print(Mydict[\"Student Name\"][i])\n",
    "        #print(Mydict[\"Email Id \"][i])\n",
    "        enrolid=Mydict[\"Enrollment Id\"][i]\n",
    "        sname=Mydict[\"Student Name\"][i]\n",
    "        emailid=Mydict[\"Email Id \"][i]\n",
    "        print(f\"{enrolid:<15}{sname:15}{emailid:25}\")"
   ]
  },
  {
   "cell_type": "code",
   "execution_count": null,
   "id": "3b21301e",
   "metadata": {},
   "outputs": [],
   "source": [
    "data = [\n",
    "    (12345, \"Diksha\", \"Diksha r@nuv.ac.in\"),\n",
    "    (45667, \"Jiva\", \"Jiva@nuv.ac.in\"),\n",
    "    (16789, \"Ronit\", \"Ronitd@nuv.ac.in\"),\n",
    "    (69433, \"Heena\", \"Heena@nuv.ac.in\")\n",
    "]\n",
    "Mydict ={\n",
    "\"Enrollment Id\" : [],\n",
    "\"Student Name\": [],\n",
    "\"Email Id \": []\n",
    "}\n",
    " \n",
    "for d in data: # method 1\n",
    "    Mydict[\"Enrollment Id\"].append(d[0])\n",
    "    Mydict[\"Student Name\"].append(d[1])\n",
    "    Mydict[\"Email Id \"].append(d[2])\n",
    "\n",
    "#Mydict[\"Enrollment Id\"]=[d[0] for d in data]\n",
    "\n",
    "\n",
    "Mydict"
   ]
  },
  {
   "cell_type": "code",
   "execution_count": null,
   "id": "9089e6ce",
   "metadata": {},
   "outputs": [],
   "source": [
    "import json\n",
    "fu=open(\"BCAdetails.json\",'w')\n",
    "a=json.dumps(Mydict)\n",
    "fu.write(a)\n",
    "#To read any json object from file\n",
    "fr=open(\"BCAdetails.json\",\"r\")\n",
    "allstudents=json.load(fr)#read\n"
   ]
  },
  {
   "cell_type": "code",
   "execution_count": null,
   "id": "cc1f679b",
   "metadata": {},
   "outputs": [],
   "source": [
    "import csv\n",
    "with open('Q5data.csv') as csvdata:\n",
    "    for n in csvdata:\n",
    "        print(n)"
   ]
  },
  {
   "cell_type": "code",
   "execution_count": null,
   "id": "2e4e3f9c",
   "metadata": {},
   "outputs": [],
   "source": [
    "import csv\n",
    "with open('Q5data.csv') as csvdata:\n",
    "    for n in csvdata:\n",
    "        print(n)"
   ]
  },
  {
   "cell_type": "code",
   "execution_count": null,
   "id": "5a16287c",
   "metadata": {},
   "outputs": [],
   "source": [
    "                            # unit:2  Assignmnet-4\n",
    "import numpy as np\n",
    "# To convert lib in nump array = np.array\n"
   ]
  },
  {
   "cell_type": "code",
   "execution_count": null,
   "id": "aedc429e",
   "metadata": {},
   "outputs": [],
   "source": [
    "'''TO print in matrix \n",
    "mat=np.array(mymat)\n",
    "mat\n",
    "\n",
    "* To arrange in sequence\n",
    "np.arange(string)(0,11)\n",
    "np.arange(0,11,2) if you write 2 then it will skip 2 numbers'''"
   ]
  },
  {
   "cell_type": "code",
   "execution_count": null,
   "id": "6ae2dc8d",
   "metadata": {},
   "outputs": [],
   "source": [
    "np.zeros(10) # all values will print zeros  for 1D"
   ]
  },
  {
   "cell_type": "code",
   "execution_count": null,
   "id": "154a6da1",
   "metadata": {},
   "outputs": [],
   "source": [
    "np.ones(10) #all values  will print 1"
   ]
  },
  {
   "cell_type": "code",
   "execution_count": null,
   "id": "e6e06b8f",
   "metadata": {},
   "outputs": [],
   "source": [
    "np.ones(10)*5\n"
   ]
  },
  {
   "cell_type": "code",
   "execution_count": null,
   "id": "5e915be4",
   "metadata": {},
   "outputs": [],
   "source": [
    "# theory \n",
    "#1D = np.ones(6) \n",
    "#matrix = np.ones(6,6)"
   ]
  },
  {
   "cell_type": "code",
   "execution_count": null,
   "id": "3684c316",
   "metadata": {},
   "outputs": [],
   "source": [
    "np.arange(10,51)"
   ]
  },
  {
   "cell_type": "code",
   "execution_count": null,
   "id": "10dca875",
   "metadata": {},
   "outputs": [],
   "source": [
    "np.arange(10,51,2) # skip 2 number "
   ]
  },
  {
   "cell_type": "code",
   "execution_count": null,
   "id": "98627a0e",
   "metadata": {},
   "outputs": [],
   "source": [
    "ar=np.arange(0,9).reshape(3,3)\n",
    "ar\n",
    "#(ar.shape) di"
   ]
  },
  {
   "cell_type": "code",
   "execution_count": null,
   "id": "4a893856",
   "metadata": {},
   "outputs": [],
   "source": [
    "np.eye(3)# use fro diagonals .eye is use"
   ]
  },
  {
   "cell_type": "code",
   "execution_count": null,
   "id": "f0bda3ca",
   "metadata": {},
   "outputs": [],
   "source": [
    "np.random.rand(1) # is will give you any random value if you want 1D then write 1, for 2D is 2 digit number(2,3)"
   ]
  },
  {
   "cell_type": "code",
   "execution_count": null,
   "id": "c15fcb8e",
   "metadata": {},
   "outputs": [],
   "source": [
    "np.random.rand(25)\n",
    "ranar=np.random.randint(0,50,10) # to keep value in integer form then \"randint\" will use\n",
    "ranar.dtype"
   ]
  },
  {
   "cell_type": "code",
   "execution_count": null,
   "id": "4ce504c9",
   "metadata": {},
   "outputs": [],
   "source": [
    "np.arange(1,101).reshape(10,10)/100 #arange will arranger the numbers in sequences and \"reshape\""
   ]
  },
  {
   "cell_type": "code",
   "execution_count": null,
   "id": "b713ec53",
   "metadata": {},
   "outputs": [],
   "source": [
    "                                        # linspace\n",
    "#Return evenly(divided in equal parts) spaced numbers"
   ]
  },
  {
   "cell_type": "code",
   "execution_count": null,
   "id": "58609ada",
   "metadata": {},
   "outputs": [],
   "source": [
    "np.linspace(0,1,100) #Here (0(start),1(end),10(no.of point ))"
   ]
  },
  {
   "cell_type": "code",
   "execution_count": null,
   "id": "945763d6",
   "metadata": {},
   "outputs": [],
   "source": [
    "np.arange(1,26).reshape(5,5)"
   ]
  },
  {
   "cell_type": "code",
   "execution_count": null,
   "id": "58d77d42",
   "metadata": {},
   "outputs": [],
   "source": [
    "np.linspace(0,1,20)"
   ]
  },
  {
   "cell_type": "code",
   "execution_count": null,
   "id": "6889c7c1",
   "metadata": {},
   "outputs": [],
   "source": [
    "import numpy as np\n",
    "arr=np.arange(1,26).reshape(5,5)\n",
    "arr"
   ]
  },
  {
   "cell_type": "code",
   "execution_count": null,
   "id": "66542725",
   "metadata": {},
   "outputs": [],
   "source": [
    "arr[2:5 , 1:5]"
   ]
  },
  {
   "cell_type": "code",
   "execution_count": null,
   "id": "588035aa",
   "metadata": {},
   "outputs": [],
   "source": [
    "arr[3,4]"
   ]
  },
  {
   "cell_type": "code",
   "execution_count": null,
   "id": "abc1128c",
   "metadata": {},
   "outputs": [],
   "source": [
    "arr[0:3,1:2]"
   ]
  },
  {
   "cell_type": "code",
   "execution_count": null,
   "id": "c4f0ba9f",
   "metadata": {},
   "outputs": [],
   "source": [
    "arr[4:5]"
   ]
  },
  {
   "cell_type": "code",
   "execution_count": null,
   "id": "622d3012",
   "metadata": {},
   "outputs": [],
   "source": [
    "arr[3:5]"
   ]
  },
  {
   "cell_type": "code",
   "execution_count": null,
   "id": "a8907497",
   "metadata": {},
   "outputs": [],
   "source": [
    "arr[3:4,4:5]#2nd method"
   ]
  },
  {
   "cell_type": "code",
   "execution_count": null,
   "id": "1f6c4df6",
   "metadata": {
    "scrolled": true
   },
   "outputs": [],
   "source": [
    " #Get the sum of arr"
   ]
  },
  {
   "cell_type": "code",
   "execution_count": null,
   "id": "ba102b8b",
   "metadata": {},
   "outputs": [],
   "source": [
    "np.sum(arr)"
   ]
  },
  {
   "cell_type": "code",
   "execution_count": null,
   "id": "bcf59998",
   "metadata": {},
   "outputs": [],
   "source": [
    "np.std(arr)"
   ]
  },
  {
   "cell_type": "code",
   "execution_count": null,
   "id": "a5a2303e",
   "metadata": {},
   "outputs": [],
   "source": [
    "#axix=1 for Rows and axis=0 for column"
   ]
  },
  {
   "cell_type": "code",
   "execution_count": null,
   "id": "0c9ad5ea",
   "metadata": {},
   "outputs": [],
   "source": [
    "np.sum(arr,axis=0)"
   ]
  },
  {
   "cell_type": "code",
   "execution_count": null,
   "id": "6092f861",
   "metadata": {},
   "outputs": [],
   "source": [
    "np.sum(arr,axis=1)"
   ]
  },
  {
   "cell_type": "code",
   "execution_count": null,
   "id": "2b594923",
   "metadata": {},
   "outputs": [],
   "source": [
    "mat[4:5]"
   ]
  },
  {
   "cell_type": "code",
   "execution_count": null,
   "id": "216d6bbd",
   "metadata": {},
   "outputs": [],
   "source": [
    "mat[0:3,1:2]"
   ]
  },
  {
   "cell_type": "code",
   "execution_count": null,
   "id": "3a876343",
   "metadata": {},
   "outputs": [],
   "source": [
    "oneD=np.arange(0,12)\n",
    "oneD\n",
    "#oneD.ndim\n",
    "#oneD.dtype(show the dtype('int32'))"
   ]
  },
  {
   "cell_type": "code",
   "execution_count": null,
   "id": "144e3466",
   "metadata": {},
   "outputs": [],
   "source": [
    "twoD=np.arange(0,12).reshape(3,4)\n",
    "twoD\n",
    "#twoD.ndim\n",
    "#twoD.shape"
   ]
  },
  {
   "cell_type": "code",
   "execution_count": null,
   "id": "765c41b0",
   "metadata": {},
   "outputs": [],
   "source": [
    "threeD=np.arange(0,12).reshape(3,2,2)\n",
    "#threeD.ndim\n",
    "threeD"
   ]
  },
  {
   "cell_type": "code",
   "execution_count": null,
   "id": "6551855b",
   "metadata": {},
   "outputs": [],
   "source": [
    "oneD.dtype\n",
    "twoD.dtype\n",
    "threeD.dtype"
   ]
  },
  {
   "cell_type": "code",
   "execution_count": null,
   "id": "34d5ef5c",
   "metadata": {},
   "outputs": [],
   "source": [
    "oneD.shape\n"
   ]
  },
  {
   "cell_type": "code",
   "execution_count": null,
   "id": "b220ebf3",
   "metadata": {},
   "outputs": [],
   "source": [
    "twoD.shape"
   ]
  },
  {
   "cell_type": "code",
   "execution_count": null,
   "id": "6633700c",
   "metadata": {},
   "outputs": [],
   "source": [
    "threeD.shape"
   ]
  },
  {
   "cell_type": "code",
   "execution_count": null,
   "id": "67806007",
   "metadata": {},
   "outputs": [],
   "source": [
    "oneD.ndim"
   ]
  },
  {
   "cell_type": "code",
   "execution_count": null,
   "id": "112ce559",
   "metadata": {},
   "outputs": [],
   "source": [
    "twoD.ndim"
   ]
  },
  {
   "cell_type": "code",
   "execution_count": null,
   "id": "0321c0ca",
   "metadata": {},
   "outputs": [],
   "source": [
    "threeD.ndim"
   ]
  },
  {
   "cell_type": "code",
   "execution_count": null,
   "id": "152bad62",
   "metadata": {},
   "outputs": [],
   "source": [
    "np.ones(15).reshape(5,3)"
   ]
  },
  {
   "cell_type": "code",
   "execution_count": null,
   "id": "e406f61d",
   "metadata": {},
   "outputs": [],
   "source": [
    "np.empty(3)"
   ]
  },
  {
   "cell_type": "code",
   "execution_count": null,
   "id": "a28a3f2e",
   "metadata": {},
   "outputs": [],
   "source": [
    "np.zeros(12)"
   ]
  },
  {
   "cell_type": "code",
   "execution_count": null,
   "id": "8d918eaf",
   "metadata": {},
   "outputs": [],
   "source": [
    "np.zeros(12).reshape(3,4)"
   ]
  },
  {
   "cell_type": "code",
   "execution_count": null,
   "id": "a2d140a6",
   "metadata": {},
   "outputs": [],
   "source": [
    "maths=np.random.randint(0,100,20)\n",
    "maths"
   ]
  },
  {
   "cell_type": "code",
   "execution_count": null,
   "id": "472fa76f",
   "metadata": {},
   "outputs": [],
   "source": [
    "sort=np.sort(maths)\n",
    "sort"
   ]
  },
  {
   "cell_type": "code",
   "execution_count": null,
   "id": "80076587",
   "metadata": {},
   "outputs": [],
   "source": [
    "np.flip(sort)"
   ]
  },
  {
   "cell_type": "code",
   "execution_count": null,
   "id": "4fca2ef6",
   "metadata": {},
   "outputs": [],
   "source": [
    "copy1=np.copy(sort)\n",
    "copy1"
   ]
  },
  {
   "cell_type": "code",
   "execution_count": null,
   "id": "3d9caeab",
   "metadata": {},
   "outputs": [],
   "source": [
    "np.eye(5)"
   ]
  },
  {
   "cell_type": "code",
   "execution_count": null,
   "id": "21b1c995",
   "metadata": {},
   "outputs": [],
   "source": [
    "np.eye(5).reshape(25,)"
   ]
  },
  {
   "cell_type": "code",
   "execution_count": null,
   "id": "223d9dd6",
   "metadata": {},
   "outputs": [],
   "source": [
    "one=np.arange(1,10).reshape(3,3)\n",
    "two=np.arange(10,13)\n",
    "three=np.append(one,two).reshape(4,3)\n",
    "three\n",
    "                       #   one=np.arange(1,10).reshape(3,3)\n",
    "                       #    np.append(one,[[10,11,12]],axis=0)"
   ]
  },
  {
   "cell_type": "code",
   "execution_count": null,
   "id": "3210d114",
   "metadata": {},
   "outputs": [],
   "source": [
    "np.vstack((one,[10,11,12]))"
   ]
  },
  {
   "cell_type": "code",
   "execution_count": null,
   "id": "3e844cd1",
   "metadata": {},
   "outputs": [],
   "source": [
    "np.hstack((one,[[4],[6],[9]]))"
   ]
  },
  {
   "cell_type": "code",
   "execution_count": null,
   "id": "43545374",
   "metadata": {},
   "outputs": [],
   "source": [
    "np.hsplit(one,3)"
   ]
  },
  {
   "cell_type": "code",
   "execution_count": null,
   "id": "84ee597d",
   "metadata": {},
   "outputs": [],
   "source": [
    "np.vsplit(one,3)"
   ]
  },
  {
   "cell_type": "code",
   "execution_count": null,
   "id": "ba50d78d",
   "metadata": {},
   "outputs": [],
   "source": [
    "np.eye(4)+4"
   ]
  },
  {
   "cell_type": "code",
   "execution_count": null,
   "id": "44df5609",
   "metadata": {},
   "outputs": [],
   "source": [
    "Q13=np.random.uniform(0,9,10)\n",
    "Q13"
   ]
  },
  {
   "cell_type": "code",
   "execution_count": null,
   "id": "b9a4c158",
   "metadata": {},
   "outputs": [],
   "source": [
    "np.ceil(Q13)"
   ]
  },
  {
   "cell_type": "code",
   "execution_count": null,
   "id": "d7002266",
   "metadata": {},
   "outputs": [],
   "source": [
    "np.floor(Q13)"
   ]
  },
  {
   "cell_type": "code",
   "execution_count": null,
   "id": "0b8d91c0",
   "metadata": {},
   "outputs": [],
   "source": [
    "np.floor?"
   ]
  },
  {
   "cell_type": "code",
   "execution_count": null,
   "id": "30475b69",
   "metadata": {},
   "outputs": [],
   "source": [
    "np.round(Q13,decimals=2)"
   ]
  },
  {
   "cell_type": "code",
   "execution_count": null,
   "id": "027de9f0",
   "metadata": {},
   "outputs": [],
   "source": [
    "Q14=np.arange(0,25).reshape(5,5)\n",
    "Q14"
   ]
  },
  {
   "cell_type": "code",
   "execution_count": null,
   "id": "902422a9",
   "metadata": {},
   "outputs": [],
   "source": [
    "Q14.min(axis=0)"
   ]
  },
  {
   "cell_type": "code",
   "execution_count": null,
   "id": "8304c40f",
   "metadata": {},
   "outputs": [],
   "source": [
    "Q14.max(axis=0)"
   ]
  },
  {
   "cell_type": "code",
   "execution_count": null,
   "id": "82c50f27",
   "metadata": {},
   "outputs": [],
   "source": [
    "Q14.var(axis=0)"
   ]
  },
  {
   "cell_type": "code",
   "execution_count": null,
   "id": "10340404",
   "metadata": {},
   "outputs": [],
   "source": [
    "Q14.std(axis=0)"
   ]
  },
  {
   "cell_type": "code",
   "execution_count": null,
   "id": "798cbba9",
   "metadata": {},
   "outputs": [],
   "source": [
    "Q15 = np.full((Null)*10)\n",
    "Q15[5] = 200\n",
    "Q15"
   ]
  },
  {
   "cell_type": "code",
   "execution_count": null,
   "id": "6bf452db",
   "metadata": {},
   "outputs": [],
   "source": [
    "a= np.arange(100,150)\n",
    "a"
   ]
  },
  {
   "cell_type": "code",
   "execution_count": null,
   "id": "e90383ef",
   "metadata": {},
   "outputs": [],
   "source": [
    "#q20\n",
    "a=np.ones((10,10))\n",
    "a[1:9,1:9]=0\n",
    "a"
   ]
  },
  {
   "cell_type": "code",
   "execution_count": null,
   "id": "5cf18912",
   "metadata": {},
   "outputs": [],
   "source": [
    "#q21\n",
    "a=np.ones((8,8))\n",
    "a[:,0:1]"
   ]
  },
  {
   "cell_type": "code",
   "execution_count": null,
   "id": "1e28448d",
   "metadata": {},
   "outputs": [],
   "source": [
    "a[0:9:2,0:1]=0\n",
    "a"
   ]
  },
  {
   "cell_type": "code",
   "execution_count": null,
   "id": "aa6f41f8",
   "metadata": {},
   "outputs": [],
   "source": [
    "chk=np.ones((8,8))"
   ]
  },
  {
   "cell_type": "code",
   "execution_count": null,
   "id": "75460c95",
   "metadata": {},
   "outputs": [],
   "source": [
    "chk"
   ]
  },
  {
   "cell_type": "code",
   "execution_count": null,
   "id": "c7d13466",
   "metadata": {},
   "outputs": [],
   "source": [
    "chk[0::2,0::2]=0\n",
    "chk[1::2,1::2]=0 # for 1st row and then skip 2 rows\n",
    "chk"
   ]
  },
  {
   "cell_type": "code",
   "execution_count": null,
   "id": "1d51f070",
   "metadata": {},
   "outputs": [],
   "source": [
    "a=np.ones((5,5))\n",
    "a[0::2,0::2]=0\n",
    "a[1::2,1::2]=0\n",
    "a"
   ]
  },
  {
   "cell_type": "code",
   "execution_count": null,
   "id": "bc72beff",
   "metadata": {},
   "outputs": [],
   "source": [
    "chk=np.ones((4,4))\n",
    "chk[0::3,0::3]=2\n",
    "chk[1::3,1::3]=2 # for 1st row and then skip 2 rows\n",
    "chk"
   ]
  },
  {
   "cell_type": "code",
   "execution_count": null,
   "id": "1eea3ff6",
   "metadata": {},
   "outputs": [],
   "source": [
    "a = np.random.randint(0,10,(3, 3))\n",
    "b = np.random.randint(0,10,(3, 3))\n",
    "print(\"matrix1:\",a)\n",
    "print(\"matrix2\",b)\n",
    "\n",
    "add=a+b\n",
    "print(\"add\",a)\n",
    "\n",
    "m=a@b\n",
    "print(\"multiply\",m)\n",
    "\n",
    "s=a-b \n",
    "print( \"sub\",s)\n"
   ]
  },
  {
   "cell_type": "code",
   "execution_count": null,
   "id": "aec2709a",
   "metadata": {},
   "outputs": [],
   "source": [
    "                     #series"
   ]
  },
  {
   "cell_type": "code",
   "execution_count": null,
   "id": "d7cbe283",
   "metadata": {},
   "outputs": [],
   "source": [
    "import numpy as np\n",
    "import pandas as pd"
   ]
  },
  {
   "cell_type": "code",
   "execution_count": null,
   "id": "5943465a",
   "metadata": {},
   "outputs": [],
   "source": [
    "series=['python','DSA','DBMS']\n",
    "list=[95,65,45]"
   ]
  },
  {
   "cell_type": "code",
   "execution_count": null,
   "id": "6d0c2dbb",
   "metadata": {},
   "outputs": [],
   "source": [
    "pd.Series(data=list)\n",
    "pd.Series(data=list,index=series)\n",
    "pd.Series(list,series)"
   ]
  },
  {
   "cell_type": "code",
   "execution_count": null,
   "id": "571751c3",
   "metadata": {},
   "outputs": [],
   "source": [
    "#series."
   ]
  },
  {
   "cell_type": "code",
   "execution_count": null,
   "id": "bdddf33b",
   "metadata": {},
   "outputs": [],
   "source": [
    " #Dictionary\n",
    "a={\"name\":\"priya\",\"email\":\"abc@gmail.com\", \"pet\":\"german\"\n",
    "}\n",
    "pd.Series(a)"
   ]
  },
  {
   "cell_type": "code",
   "execution_count": null,
   "id": "d636de12",
   "metadata": {},
   "outputs": [],
   "source": [
    "a.keys()"
   ]
  },
  {
   "cell_type": "code",
   "execution_count": null,
   "id": "5a0477be",
   "metadata": {},
   "outputs": [],
   "source": [
    "a.values()"
   ]
  },
  {
   "cell_type": "code",
   "execution_count": null,
   "id": "a9663524",
   "metadata": {},
   "outputs": [],
   "source": [
    "from numpy.random import randn\n",
    "import numpy as np\n",
    "import pandas as pd"
   ]
  },
  {
   "cell_type": "code",
   "execution_count": null,
   "id": "0e8c2898",
   "metadata": {},
   "outputs": [],
   "source": [
    "df=pd.DataFrame(np.random.randint(1,100,(4,3)),index=['kia','hallu','karnavi','om'],columns=['python','Data-science','DBMS'])\n",
    "df"
   ]
  },
  {
   "cell_type": "code",
   "execution_count": null,
   "id": "e56c411d",
   "metadata": {},
   "outputs": [],
   "source": [
    "df['DBMS']"
   ]
  },
  {
   "cell_type": "code",
   "execution_count": null,
   "id": "7c530558",
   "metadata": {},
   "outputs": [],
   "source": [
    "df[['DBMS','python']]"
   ]
  },
  {
   "cell_type": "code",
   "execution_count": null,
   "id": "6d9fa716",
   "metadata": {},
   "outputs": [],
   "source": [
    "df.loc['kia']"
   ]
  },
  {
   "cell_type": "code",
   "execution_count": null,
   "id": "af0adb09",
   "metadata": {},
   "outputs": [],
   "source": [
    "df.loc[['kia','hallu']]"
   ]
  },
  {
   "cell_type": "code",
   "execution_count": null,
   "id": "57e6dea4",
   "metadata": {},
   "outputs": [],
   "source": [
    "df.iloc[2]"
   ]
  },
  {
   "cell_type": "code",
   "execution_count": null,
   "id": "57107c2d",
   "metadata": {},
   "outputs": [],
   "source": [
    "df['names']=['tinu','pina','sona','mona'] # new colums will add\n",
    "df"
   ]
  },
  {
   "cell_type": "code",
   "execution_count": null,
   "id": "bc96fe34",
   "metadata": {},
   "outputs": [],
   "source": [
    "df.set_index('names')\n",
    "df"
   ]
  },
  {
   "cell_type": "code",
   "execution_count": null,
   "id": "3f0803ec",
   "metadata": {},
   "outputs": [],
   "source": [
    "df['totals']=df['python']+df['Data-science']+df['DBMS']\n",
    "df"
   ]
  },
  {
   "cell_type": "code",
   "execution_count": null,
   "id": "f7a0e1e4",
   "metadata": {},
   "outputs": [],
   "source": [
    "df.drop('names',axis=1,inplace=True)\n",
    "df"
   ]
  },
  {
   "cell_type": "code",
   "execution_count": null,
   "id": "b421af41",
   "metadata": {},
   "outputs": [],
   "source": [
    "\n",
    "df1=pd.read_csv('Q5data.csv')\n",
    "df1"
   ]
  },
  {
   "cell_type": "code",
   "execution_count": null,
   "id": "c7b85785",
   "metadata": {},
   "outputs": [],
   "source": [
    "df"
   ]
  },
  {
   "cell_type": "code",
   "execution_count": null,
   "id": "bd2a1c17",
   "metadata": {},
   "outputs": [],
   "source": [
    "                  #Assignment"
   ]
  },
  {
   "cell_type": "code",
   "execution_count": null,
   "id": "291a8de2",
   "metadata": {},
   "outputs": [],
   "source": [
    "import numpy as np\n",
    "import pandas as pd\n",
    "list=['productID','productname','productprice']\n",
    "d=[1,'rice',45],[2,'butter',50],[3,'milk',60]"
   ]
  },
  {
   "cell_type": "code",
   "execution_count": null,
   "id": "acf78fa4",
   "metadata": {},
   "outputs": [],
   "source": [
    "pd.Series(data=list)\n",
    "pd.Series(data=list,index=d)\n",
    "pd.Series(list,d)"
   ]
  },
  {
   "cell_type": "code",
   "execution_count": null,
   "id": "9bdef624",
   "metadata": {},
   "outputs": [],
   "source": [
    "#q1\n",
    "from numpy.random import randn\n",
    "import numpy as np\n",
    "import pandas as pd"
   ]
  },
  {
   "cell_type": "code",
   "execution_count": null,
   "id": "9eb40121",
   "metadata": {},
   "outputs": [],
   "source": [
    "df1=pd.DataFrame(np.random.randint(1,100,(4,3)),index=['1','2','3','4'],columns=['productid','price','name'])\n",
    "df1"
   ]
  },
  {
   "cell_type": "code",
   "execution_count": null,
   "id": "caf68fcf",
   "metadata": {},
   "outputs": [],
   "source": [
    "df1.drop('name',axis=1,inplace=True)\n",
    "df1"
   ]
  },
  {
   "cell_type": "code",
   "execution_count": null,
   "id": "21e0ae51",
   "metadata": {},
   "outputs": [],
   "source": [
    "df1['names']=['rice','oil','peanut','butter']\n",
    "df1"
   ]
  },
  {
   "cell_type": "code",
   "execution_count": null,
   "id": "71ff2768",
   "metadata": {},
   "outputs": [],
   "source": [
    "df1['productid']"
   ]
  },
  {
   "cell_type": "code",
   "execution_count": null,
   "id": "ff1ca732",
   "metadata": {},
   "outputs": [],
   "source": [
    "df1['names']"
   ]
  },
  {
   "cell_type": "code",
   "execution_count": null,
   "id": "b44db219",
   "metadata": {},
   "outputs": [],
   "source": [
    "df1['price']"
   ]
  },
  {
   "cell_type": "code",
   "execution_count": null,
   "id": "0d9e63ee",
   "metadata": {},
   "outputs": [],
   "source": [
    "df1.loc['1']"
   ]
  },
  {
   "cell_type": "code",
   "execution_count": null,
   "id": "f2c53c92",
   "metadata": {},
   "outputs": [],
   "source": [
    "\n",
    "df1.loc['2']"
   ]
  },
  {
   "cell_type": "code",
   "execution_count": null,
   "id": "85e0dede",
   "metadata": {},
   "outputs": [],
   "source": [
    "df1.loc['3']"
   ]
  },
  {
   "cell_type": "code",
   "execution_count": null,
   "id": "dea4d174",
   "metadata": {},
   "outputs": [],
   "source": [
    "df1.loc['4']"
   ]
  },
  {
   "cell_type": "code",
   "execution_count": null,
   "id": "167f1618",
   "metadata": {},
   "outputs": [],
   "source": [
    "df1"
   ]
  },
  {
   "cell_type": "code",
   "execution_count": null,
   "id": "9ad5b507",
   "metadata": {},
   "outputs": [],
   "source": [
    "\n",
    "df1.loc['2':,[\"price\"]]"
   ]
  },
  {
   "cell_type": "code",
   "execution_count": null,
   "id": "f76df4fd",
   "metadata": {},
   "outputs": [],
   "source": [
    "#q4\n",
    "df1.iloc[1:4,[2]]"
   ]
  },
  {
   "cell_type": "code",
   "execution_count": null,
   "id": "246c5b4a",
   "metadata": {},
   "outputs": [],
   "source": [
    "df1.loc['2':'4',df1.columns!='price']"
   ]
  },
  {
   "cell_type": "code",
   "execution_count": null,
   "id": "e0b387ce",
   "metadata": {},
   "outputs": [],
   "source": [
    "df1"
   ]
  },
  {
   "cell_type": "code",
   "execution_count": null,
   "id": "6f327d87",
   "metadata": {},
   "outputs": [],
   "source": [
    "#q5\n",
    "df1.iloc[[2,3]]"
   ]
  },
  {
   "cell_type": "code",
   "execution_count": null,
   "id": "7f522d0c",
   "metadata": {},
   "outputs": [],
   "source": [
    "#q6\n",
    "df1.loc['2':'4',df1.columns!='price']"
   ]
  },
  {
   "cell_type": "code",
   "execution_count": null,
   "id": "37d7b172",
   "metadata": {},
   "outputs": [],
   "source": [
    "df1"
   ]
  },
  {
   "cell_type": "code",
   "execution_count": null,
   "id": "8dc122b6",
   "metadata": {},
   "outputs": [],
   "source": [
    "#q7\n",
    "df1.iloc[0:3,[1]]"
   ]
  },
  {
   "cell_type": "code",
   "execution_count": null,
   "id": "bce37cd7",
   "metadata": {},
   "outputs": [],
   "source": [
    "#8\n",
    "df=pd.DataFrame(np.random.randint(1,100,(4,3)),index=['kia','hallu','karnavi','om'],columns=['python','Data-science','DBMS'])\n",
    "df"
   ]
  },
  {
   "cell_type": "code",
   "execution_count": null,
   "id": "cdb1c15f",
   "metadata": {},
   "outputs": [],
   "source": [
    "df['python']>40\n"
   ]
  },
  {
   "cell_type": "code",
   "execution_count": null,
   "id": "49a62877",
   "metadata": {},
   "outputs": [],
   "source": [
    "df.loc[df['python']>40,'python']"
   ]
  },
  {
   "cell_type": "code",
   "execution_count": null,
   "id": "8ee9ea02",
   "metadata": {},
   "outputs": [],
   "source": [
    "#q9\n",
    "df+2"
   ]
  },
  {
   "cell_type": "code",
   "execution_count": null,
   "id": "865cbd48",
   "metadata": {},
   "outputs": [],
   "source": [
    "df"
   ]
  },
  {
   "cell_type": "code",
   "execution_count": null,
   "id": "166898f0",
   "metadata": {},
   "outputs": [],
   "source": [
    "df2=(df+2)\n",
    "df2"
   ]
  },
  {
   "cell_type": "code",
   "execution_count": null,
   "id": "a20a397b",
   "metadata": {},
   "outputs": [],
   "source": [
    "df2"
   ]
  },
  {
   "cell_type": "code",
   "execution_count": null,
   "id": "1216589e",
   "metadata": {},
   "outputs": [],
   "source": [
    "df3=(df+50)\n",
    "df3"
   ]
  },
  {
   "cell_type": "code",
   "execution_count": null,
   "id": "01cd3cfb",
   "metadata": {},
   "outputs": [],
   "source": [
    "df2[df2>100]=100\n",
    "df2"
   ]
  },
  {
   "cell_type": "code",
   "execution_count": null,
   "id": "0ea731f5",
   "metadata": {},
   "outputs": [],
   "source": [
    "# & for and\n",
    "# | for or"
   ]
  },
  {
   "cell_type": "code",
   "execution_count": null,
   "id": "33537860",
   "metadata": {},
   "outputs": [],
   "source": [
    "#q10\n",
    "df3[(df3['python']>85) & (df3['Data-science']>130)]\n"
   ]
  },
  {
   "cell_type": "code",
   "execution_count": null,
   "id": "26db0945",
   "metadata": {},
   "outputs": [],
   "source": [
    "#q11\n",
    "df[df.index.str.startswith('o')]"
   ]
  },
  {
   "cell_type": "code",
   "execution_count": null,
   "id": "1b6c8897",
   "metadata": {},
   "outputs": [],
   "source": [
    "#q12\n",
    "df[df.index.str.endswith('a')]"
   ]
  },
  {
   "cell_type": "code",
   "execution_count": null,
   "id": "e8748f0f",
   "metadata": {},
   "outputs": [],
   "source": [
    "#13\n",
    "df"
   ]
  },
  {
   "cell_type": "code",
   "execution_count": null,
   "id": "56877e6a",
   "metadata": {},
   "outputs": [],
   "source": [
    "df['totals']=df['python']+df['Data-science']+df['DBMS']\n",
    "df"
   ]
  },
  {
   "cell_type": "code",
   "execution_count": null,
   "id": "5a50f64b",
   "metadata": {},
   "outputs": [],
   "source": [
    "df['per']=((df['python']+df['Data-science']+df['DBMS']))/300*100\n",
    "df"
   ]
  },
  {
   "cell_type": "code",
   "execution_count": null,
   "id": "abf3b35f",
   "metadata": {},
   "outputs": [],
   "source": [
    "#q14  example\n",
    "df['result']=df['per']>40\n",
    "df"
   ]
  },
  {
   "cell_type": "code",
   "execution_count": null,
   "id": "250f9948",
   "metadata": {},
   "outputs": [],
   "source": [
    "df.loc[df['per']>40,\"result\"]=\"pass\" \n",
    "df"
   ]
  },
  {
   "cell_type": "code",
   "execution_count": null,
   "id": "cff65cf3",
   "metadata": {},
   "outputs": [],
   "source": [
    "# another way\n",
    "df.loc[(df['per']>40,\"result\"==\"pass\") | df.loc[(df['per']<40,\"result\"==\"fail\")]]\n",
    "df"
   ]
  },
  {
   "cell_type": "code",
   "execution_count": null,
   "id": "309fc4cd",
   "metadata": {},
   "outputs": [],
   "source": [
    "#q14 \n",
    "df"
   ]
  },
  {
   "cell_type": "code",
   "execution_count": null,
   "id": "f227855d",
   "metadata": {},
   "outputs": [],
   "source": [
    "df['result']=np.where(df['per']<40,\"fail\",\"pass\")\n",
    "df"
   ]
  },
  {
   "cell_type": "code",
   "execution_count": null,
   "id": "1cf4a424",
   "metadata": {},
   "outputs": [],
   "source": [
    "#15. Calculate percentage based grade value (per>=90 then A-grade, per>=80 then B-grade,\n",
    "# per>=70 then C-grade, per>=60 then D-grade, per>=50 then E-grade, per<50 then Fgrade)\n",
    "\n",
    "df['grade']=np.where(df['per']>=90,\"A-grade\",np.where(df['per']>=80,\"B-grade\",np.where(df['per']>=70,\"C-grade\",np.where(df['per']>=60,\"D-grade\",np.where(df['per']>=50,\"E-grade\",\"f\"))))) \n",
    "df"
   ]
  },
  {
   "cell_type": "code",
   "execution_count": null,
   "id": "87e928a2",
   "metadata": {},
   "outputs": [],
   "source": [
    "#15. Calculate percentage based grade value (per>=90 then A-grade, per>=80 then B-grade,\n",
    "# per>=70 then C-grade, per>=60 then D-grade, per>=50 then E-grade, per<50 then Fgrade)\n",
    "\n",
    "df['grade']=np.where(df['per']>=35,\"c-grade\",np.where(df['per']>=20,\"B-grade\",np.where(df['per']>=20,\"a grade\",\"f\")))\n",
    "df"
   ]
  },
  {
   "cell_type": "code",
   "execution_count": null,
   "id": "7a1b39cd",
   "metadata": {},
   "outputs": [],
   "source": [
    "df.loc[df['per']>=40,'grade']='A-grade'\n",
    "df.loc[df['per']<=20,'grade']='B-grade'\n",
    "df"
   ]
  },
  {
   "cell_type": "code",
   "execution_count": null,
   "id": "4dd90762",
   "metadata": {},
   "outputs": [],
   "source": [
    "df.loc[df['per']>=70,'grade']='A-grade'\n",
    "df.loc[df['per']>=60,'grade']='B-grade'\n",
    "df.loc[df['per']>=50,'grade']='C-grade'\n",
    "df.loc[df['per']>=40,'grade']='D-grade'\n",
    "df.loc[df['per']>=30,'grade']='E-grade'\n",
    "df.loc[df['per']<=10,'grade']='F'\n",
    "df"
   ]
  },
  {
   "cell_type": "code",
   "execution_count": null,
   "id": "6c82b210",
   "metadata": {},
   "outputs": [],
   "source": [
    "df.loc[df['per']<=25,'grade']='F'\n",
    "df.loc[df['per']>=26,'grade']='E-grade'\n",
    "df.loc[df['per']>=40,'grade']='D-grade'\n",
    "df.loc[df['per']>=50,'grade']='C-grade'\n",
    "df.loc[df['per']>=60,'grade']='B-grade'\n",
    "df.loc[df['per']>=70,'grade']='A-grade'\n",
    "df"
   ]
  },
  {
   "cell_type": "code",
   "execution_count": null,
   "id": "c284df71",
   "metadata": {},
   "outputs": [],
   "source": [
    "#q16\n",
    "df.describe()"
   ]
  },
  {
   "cell_type": "code",
   "execution_count": null,
   "id": "a2b93fdf",
   "metadata": {},
   "outputs": [],
   "source": [
    "'''16. Also calculate overall columns total, maximum, minimum and standard deviation for each  \n",
    "numeric columns \n",
    "Convert the above dataframe to excel, json and html. '''\n",
    "df.to_excel:Q5data.xlsx"
   ]
  },
  {
   "cell_type": "code",
   "execution_count": null,
   "id": "9b7f89dd",
   "metadata": {},
   "outputs": [],
   "source": [
    "'''17. Display meta-data for each column for the above dataframe. \n",
    "'''"
   ]
  },
  {
   "cell_type": "code",
   "execution_count": null,
   "id": "60a4308b",
   "metadata": {},
   "outputs": [],
   "source": [
    "'''18.Convert the above DataFrame to list within a dictionary. \n",
    "'''"
   ]
  },
  {
   "cell_type": "code",
   "execution_count": null,
   "id": "9aafc982",
   "metadata": {},
   "outputs": [],
   "source": [
    "'''19. Convert this dictionary again to a separate dataframe by adding 500 to each element in product \n",
    "price column. '''"
   ]
  },
  {
   "cell_type": "markdown",
   "id": "dcb9365b",
   "metadata": {},
   "source": [
    "# Task-2\n"
   ]
  },
  {
   "cell_type": "code",
   "execution_count": 11,
   "id": "1b07af69",
   "metadata": {},
   "outputs": [],
   "source": [
    "#q1\n",
    "import numpy as np\n",
    "import pandas as pd"
   ]
  },
  {
   "cell_type": "code",
   "execution_count": 12,
   "id": "7ba3c7ab",
   "metadata": {},
   "outputs": [
    {
     "name": "stderr",
     "output_type": "stream",
     "text": [
      "C:\\Users\\Hi\\AppData\\Local\\Temp\\ipykernel_17972\\1748292466.py:1: DtypeWarning: Columns (0,3,4,5,6,7,8,9,10,12) have mixed types. Specify dtype option on import or set low_memory=False.\n",
      "  sal = pd.read_csv('Salaries.csv')\n"
     ]
    }
   ],
   "source": [
    "sal = pd.read_csv('Salaries.csv')"
   ]
  },
  {
   "cell_type": "code",
   "execution_count": 13,
   "id": "95468e7c",
   "metadata": {},
   "outputs": [
    {
     "data": {
      "text/html": [
       "<div>\n",
       "<style scoped>\n",
       "    .dataframe tbody tr th:only-of-type {\n",
       "        vertical-align: middle;\n",
       "    }\n",
       "\n",
       "    .dataframe tbody tr th {\n",
       "        vertical-align: top;\n",
       "    }\n",
       "\n",
       "    .dataframe thead th {\n",
       "        text-align: right;\n",
       "    }\n",
       "</style>\n",
       "<table border=\"1\" class=\"dataframe\">\n",
       "  <thead>\n",
       "    <tr style=\"text-align: right;\">\n",
       "      <th></th>\n",
       "      <th>Id</th>\n",
       "      <th>EmployeeName</th>\n",
       "      <th>JobTitle</th>\n",
       "      <th>BasePay</th>\n",
       "      <th>OvertimePay</th>\n",
       "      <th>OtherPay</th>\n",
       "      <th>Benefits</th>\n",
       "      <th>TotalPay</th>\n",
       "      <th>TotalPayBenefits</th>\n",
       "      <th>Year</th>\n",
       "      <th>Notes</th>\n",
       "      <th>Agency</th>\n",
       "      <th>Status</th>\n",
       "    </tr>\n",
       "  </thead>\n",
       "  <tbody>\n",
       "    <tr>\n",
       "      <th>0</th>\n",
       "      <td>1</td>\n",
       "      <td>NATHANIEL FORD</td>\n",
       "      <td>GENERAL MANAGER-METROPOLITAN TRANSIT AUTHORITY</td>\n",
       "      <td>167411.18</td>\n",
       "      <td>0.0</td>\n",
       "      <td>400184.25</td>\n",
       "      <td>NaN</td>\n",
       "      <td>567595.43</td>\n",
       "      <td>567595.43</td>\n",
       "      <td>2011</td>\n",
       "      <td>NaN</td>\n",
       "      <td>San Francisco</td>\n",
       "      <td>NaN</td>\n",
       "    </tr>\n",
       "    <tr>\n",
       "      <th>1</th>\n",
       "      <td>2</td>\n",
       "      <td>GARY JIMENEZ</td>\n",
       "      <td>CAPTAIN III (POLICE DEPARTMENT)</td>\n",
       "      <td>155966.02</td>\n",
       "      <td>245131.88</td>\n",
       "      <td>137811.38</td>\n",
       "      <td>NaN</td>\n",
       "      <td>538909.28</td>\n",
       "      <td>538909.28</td>\n",
       "      <td>2011</td>\n",
       "      <td>NaN</td>\n",
       "      <td>San Francisco</td>\n",
       "      <td>NaN</td>\n",
       "    </tr>\n",
       "    <tr>\n",
       "      <th>2</th>\n",
       "      <td>3</td>\n",
       "      <td>ALBERT PARDINI</td>\n",
       "      <td>CAPTAIN III (POLICE DEPARTMENT)</td>\n",
       "      <td>212739.13</td>\n",
       "      <td>106088.18</td>\n",
       "      <td>16452.6</td>\n",
       "      <td>NaN</td>\n",
       "      <td>335279.91</td>\n",
       "      <td>335279.91</td>\n",
       "      <td>2011</td>\n",
       "      <td>NaN</td>\n",
       "      <td>San Francisco</td>\n",
       "      <td>NaN</td>\n",
       "    </tr>\n",
       "    <tr>\n",
       "      <th>3</th>\n",
       "      <td>4</td>\n",
       "      <td>CHRISTOPHER CHONG</td>\n",
       "      <td>WIRE ROPE CABLE MAINTENANCE MECHANIC</td>\n",
       "      <td>77916.0</td>\n",
       "      <td>56120.71</td>\n",
       "      <td>198306.9</td>\n",
       "      <td>NaN</td>\n",
       "      <td>332343.61</td>\n",
       "      <td>332343.61</td>\n",
       "      <td>2011</td>\n",
       "      <td>NaN</td>\n",
       "      <td>San Francisco</td>\n",
       "      <td>NaN</td>\n",
       "    </tr>\n",
       "    <tr>\n",
       "      <th>4</th>\n",
       "      <td>5</td>\n",
       "      <td>PATRICK GARDNER</td>\n",
       "      <td>DEPUTY CHIEF OF DEPARTMENT,(FIRE DEPARTMENT)</td>\n",
       "      <td>134401.6</td>\n",
       "      <td>9737.0</td>\n",
       "      <td>182234.59</td>\n",
       "      <td>NaN</td>\n",
       "      <td>326373.19</td>\n",
       "      <td>326373.19</td>\n",
       "      <td>2011</td>\n",
       "      <td>NaN</td>\n",
       "      <td>San Francisco</td>\n",
       "      <td>NaN</td>\n",
       "    </tr>\n",
       "    <tr>\n",
       "      <th>...</th>\n",
       "      <td>...</td>\n",
       "      <td>...</td>\n",
       "      <td>...</td>\n",
       "      <td>...</td>\n",
       "      <td>...</td>\n",
       "      <td>...</td>\n",
       "      <td>...</td>\n",
       "      <td>...</td>\n",
       "      <td>...</td>\n",
       "      <td>...</td>\n",
       "      <td>...</td>\n",
       "      <td>...</td>\n",
       "      <td>...</td>\n",
       "    </tr>\n",
       "    <tr>\n",
       "      <th>594613</th>\n",
       "      <td>148650</td>\n",
       "      <td>Roy I Tillery</td>\n",
       "      <td>Custodian</td>\n",
       "      <td>0.00</td>\n",
       "      <td>0.00</td>\n",
       "      <td>0.00</td>\n",
       "      <td>0.00</td>\n",
       "      <td>0.0</td>\n",
       "      <td>0.0</td>\n",
       "      <td>2014</td>\n",
       "      <td>NaN</td>\n",
       "      <td>San Francisco</td>\n",
       "      <td>PT</td>\n",
       "    </tr>\n",
       "    <tr>\n",
       "      <th>594614</th>\n",
       "      <td>148651</td>\n",
       "      <td>Not provided</td>\n",
       "      <td>Not provided</td>\n",
       "      <td>Not Provided</td>\n",
       "      <td>Not Provided</td>\n",
       "      <td>Not Provided</td>\n",
       "      <td>Not Provided</td>\n",
       "      <td>0.0</td>\n",
       "      <td>0.0</td>\n",
       "      <td>2014</td>\n",
       "      <td>NaN</td>\n",
       "      <td>San Francisco</td>\n",
       "      <td>NaN</td>\n",
       "    </tr>\n",
       "    <tr>\n",
       "      <th>594615</th>\n",
       "      <td>148652</td>\n",
       "      <td>Not provided</td>\n",
       "      <td>Not provided</td>\n",
       "      <td>Not Provided</td>\n",
       "      <td>Not Provided</td>\n",
       "      <td>Not Provided</td>\n",
       "      <td>Not Provided</td>\n",
       "      <td>0.0</td>\n",
       "      <td>0.0</td>\n",
       "      <td>2014</td>\n",
       "      <td>NaN</td>\n",
       "      <td>San Francisco</td>\n",
       "      <td>NaN</td>\n",
       "    </tr>\n",
       "    <tr>\n",
       "      <th>594616</th>\n",
       "      <td>148653</td>\n",
       "      <td>Not provided</td>\n",
       "      <td>Not provided</td>\n",
       "      <td>Not Provided</td>\n",
       "      <td>Not Provided</td>\n",
       "      <td>Not Provided</td>\n",
       "      <td>Not Provided</td>\n",
       "      <td>0.0</td>\n",
       "      <td>0.0</td>\n",
       "      <td>2014</td>\n",
       "      <td>NaN</td>\n",
       "      <td>San Francisco</td>\n",
       "      <td>NaN</td>\n",
       "    </tr>\n",
       "    <tr>\n",
       "      <th>594617</th>\n",
       "      <td>148654</td>\n",
       "      <td>Joe Lopez</td>\n",
       "      <td>Counselor, Log Cabin Ranch</td>\n",
       "      <td>0.00</td>\n",
       "      <td>0.00</td>\n",
       "      <td>-618.13</td>\n",
       "      <td>0.00</td>\n",
       "      <td>-618.13</td>\n",
       "      <td>-618.13</td>\n",
       "      <td>2014</td>\n",
       "      <td>NaN</td>\n",
       "      <td>San Francisco</td>\n",
       "      <td>PT</td>\n",
       "    </tr>\n",
       "  </tbody>\n",
       "</table>\n",
       "<p>594618 rows × 13 columns</p>\n",
       "</div>"
      ],
      "text/plain": [
       "            Id       EmployeeName  \\\n",
       "0            1     NATHANIEL FORD   \n",
       "1            2       GARY JIMENEZ   \n",
       "2            3     ALBERT PARDINI   \n",
       "3            4  CHRISTOPHER CHONG   \n",
       "4            5    PATRICK GARDNER   \n",
       "...        ...                ...   \n",
       "594613  148650      Roy I Tillery   \n",
       "594614  148651       Not provided   \n",
       "594615  148652       Not provided   \n",
       "594616  148653       Not provided   \n",
       "594617  148654          Joe Lopez   \n",
       "\n",
       "                                              JobTitle       BasePay  \\\n",
       "0       GENERAL MANAGER-METROPOLITAN TRANSIT AUTHORITY     167411.18   \n",
       "1                      CAPTAIN III (POLICE DEPARTMENT)     155966.02   \n",
       "2                      CAPTAIN III (POLICE DEPARTMENT)     212739.13   \n",
       "3                 WIRE ROPE CABLE MAINTENANCE MECHANIC       77916.0   \n",
       "4         DEPUTY CHIEF OF DEPARTMENT,(FIRE DEPARTMENT)      134401.6   \n",
       "...                                                ...           ...   \n",
       "594613                                       Custodian          0.00   \n",
       "594614                                    Not provided  Not Provided   \n",
       "594615                                    Not provided  Not Provided   \n",
       "594616                                    Not provided  Not Provided   \n",
       "594617                      Counselor, Log Cabin Ranch          0.00   \n",
       "\n",
       "         OvertimePay      OtherPay      Benefits   TotalPay TotalPayBenefits  \\\n",
       "0                0.0     400184.25           NaN  567595.43        567595.43   \n",
       "1          245131.88     137811.38           NaN  538909.28        538909.28   \n",
       "2          106088.18       16452.6           NaN  335279.91        335279.91   \n",
       "3           56120.71      198306.9           NaN  332343.61        332343.61   \n",
       "4             9737.0     182234.59           NaN  326373.19        326373.19   \n",
       "...              ...           ...           ...        ...              ...   \n",
       "594613          0.00          0.00          0.00        0.0              0.0   \n",
       "594614  Not Provided  Not Provided  Not Provided        0.0              0.0   \n",
       "594615  Not Provided  Not Provided  Not Provided        0.0              0.0   \n",
       "594616  Not Provided  Not Provided  Not Provided        0.0              0.0   \n",
       "594617          0.00       -618.13          0.00    -618.13          -618.13   \n",
       "\n",
       "        Year Notes         Agency Status  \n",
       "0       2011   NaN  San Francisco    NaN  \n",
       "1       2011   NaN  San Francisco    NaN  \n",
       "2       2011   NaN  San Francisco    NaN  \n",
       "3       2011   NaN  San Francisco    NaN  \n",
       "4       2011   NaN  San Francisco    NaN  \n",
       "...      ...   ...            ...    ...  \n",
       "594613  2014   NaN  San Francisco     PT  \n",
       "594614  2014   NaN  San Francisco    NaN  \n",
       "594615  2014   NaN  San Francisco    NaN  \n",
       "594616  2014   NaN  San Francisco    NaN  \n",
       "594617  2014   NaN  San Francisco     PT  \n",
       "\n",
       "[594618 rows x 13 columns]"
      ]
     },
     "execution_count": 13,
     "metadata": {},
     "output_type": "execute_result"
    }
   ],
   "source": [
    "sal"
   ]
  },
  {
   "cell_type": "code",
   "execution_count": 14,
   "id": "fb80aa89",
   "metadata": {},
   "outputs": [
    {
     "data": {
      "text/html": [
       "<div>\n",
       "<style scoped>\n",
       "    .dataframe tbody tr th:only-of-type {\n",
       "        vertical-align: middle;\n",
       "    }\n",
       "\n",
       "    .dataframe tbody tr th {\n",
       "        vertical-align: top;\n",
       "    }\n",
       "\n",
       "    .dataframe thead th {\n",
       "        text-align: right;\n",
       "    }\n",
       "</style>\n",
       "<table border=\"1\" class=\"dataframe\">\n",
       "  <thead>\n",
       "    <tr style=\"text-align: right;\">\n",
       "      <th></th>\n",
       "      <th>Id</th>\n",
       "      <th>EmployeeName</th>\n",
       "      <th>JobTitle</th>\n",
       "      <th>BasePay</th>\n",
       "      <th>OvertimePay</th>\n",
       "      <th>OtherPay</th>\n",
       "      <th>Benefits</th>\n",
       "      <th>TotalPay</th>\n",
       "      <th>TotalPayBenefits</th>\n",
       "      <th>Year</th>\n",
       "      <th>Notes</th>\n",
       "      <th>Agency</th>\n",
       "      <th>Status</th>\n",
       "    </tr>\n",
       "  </thead>\n",
       "  <tbody>\n",
       "    <tr>\n",
       "      <th>0</th>\n",
       "      <td>1</td>\n",
       "      <td>NATHANIEL FORD</td>\n",
       "      <td>GENERAL MANAGER-METROPOLITAN TRANSIT AUTHORITY</td>\n",
       "      <td>167411.18</td>\n",
       "      <td>0.0</td>\n",
       "      <td>400184.25</td>\n",
       "      <td>NaN</td>\n",
       "      <td>567595.43</td>\n",
       "      <td>567595.43</td>\n",
       "      <td>2011</td>\n",
       "      <td>NaN</td>\n",
       "      <td>San Francisco</td>\n",
       "      <td>NaN</td>\n",
       "    </tr>\n",
       "    <tr>\n",
       "      <th>1</th>\n",
       "      <td>2</td>\n",
       "      <td>GARY JIMENEZ</td>\n",
       "      <td>CAPTAIN III (POLICE DEPARTMENT)</td>\n",
       "      <td>155966.02</td>\n",
       "      <td>245131.88</td>\n",
       "      <td>137811.38</td>\n",
       "      <td>NaN</td>\n",
       "      <td>538909.28</td>\n",
       "      <td>538909.28</td>\n",
       "      <td>2011</td>\n",
       "      <td>NaN</td>\n",
       "      <td>San Francisco</td>\n",
       "      <td>NaN</td>\n",
       "    </tr>\n",
       "    <tr>\n",
       "      <th>2</th>\n",
       "      <td>3</td>\n",
       "      <td>ALBERT PARDINI</td>\n",
       "      <td>CAPTAIN III (POLICE DEPARTMENT)</td>\n",
       "      <td>212739.13</td>\n",
       "      <td>106088.18</td>\n",
       "      <td>16452.6</td>\n",
       "      <td>NaN</td>\n",
       "      <td>335279.91</td>\n",
       "      <td>335279.91</td>\n",
       "      <td>2011</td>\n",
       "      <td>NaN</td>\n",
       "      <td>San Francisco</td>\n",
       "      <td>NaN</td>\n",
       "    </tr>\n",
       "    <tr>\n",
       "      <th>3</th>\n",
       "      <td>4</td>\n",
       "      <td>CHRISTOPHER CHONG</td>\n",
       "      <td>WIRE ROPE CABLE MAINTENANCE MECHANIC</td>\n",
       "      <td>77916.0</td>\n",
       "      <td>56120.71</td>\n",
       "      <td>198306.9</td>\n",
       "      <td>NaN</td>\n",
       "      <td>332343.61</td>\n",
       "      <td>332343.61</td>\n",
       "      <td>2011</td>\n",
       "      <td>NaN</td>\n",
       "      <td>San Francisco</td>\n",
       "      <td>NaN</td>\n",
       "    </tr>\n",
       "    <tr>\n",
       "      <th>4</th>\n",
       "      <td>5</td>\n",
       "      <td>PATRICK GARDNER</td>\n",
       "      <td>DEPUTY CHIEF OF DEPARTMENT,(FIRE DEPARTMENT)</td>\n",
       "      <td>134401.6</td>\n",
       "      <td>9737.0</td>\n",
       "      <td>182234.59</td>\n",
       "      <td>NaN</td>\n",
       "      <td>326373.19</td>\n",
       "      <td>326373.19</td>\n",
       "      <td>2011</td>\n",
       "      <td>NaN</td>\n",
       "      <td>San Francisco</td>\n",
       "      <td>NaN</td>\n",
       "    </tr>\n",
       "  </tbody>\n",
       "</table>\n",
       "</div>"
      ],
      "text/plain": [
       "  Id       EmployeeName                                        JobTitle  \\\n",
       "0  1     NATHANIEL FORD  GENERAL MANAGER-METROPOLITAN TRANSIT AUTHORITY   \n",
       "1  2       GARY JIMENEZ                 CAPTAIN III (POLICE DEPARTMENT)   \n",
       "2  3     ALBERT PARDINI                 CAPTAIN III (POLICE DEPARTMENT)   \n",
       "3  4  CHRISTOPHER CHONG            WIRE ROPE CABLE MAINTENANCE MECHANIC   \n",
       "4  5    PATRICK GARDNER    DEPUTY CHIEF OF DEPARTMENT,(FIRE DEPARTMENT)   \n",
       "\n",
       "     BasePay OvertimePay   OtherPay Benefits   TotalPay TotalPayBenefits  \\\n",
       "0  167411.18         0.0  400184.25      NaN  567595.43        567595.43   \n",
       "1  155966.02   245131.88  137811.38      NaN  538909.28        538909.28   \n",
       "2  212739.13   106088.18    16452.6      NaN  335279.91        335279.91   \n",
       "3    77916.0    56120.71   198306.9      NaN  332343.61        332343.61   \n",
       "4   134401.6      9737.0  182234.59      NaN  326373.19        326373.19   \n",
       "\n",
       "   Year Notes         Agency Status  \n",
       "0  2011   NaN  San Francisco    NaN  \n",
       "1  2011   NaN  San Francisco    NaN  \n",
       "2  2011   NaN  San Francisco    NaN  \n",
       "3  2011   NaN  San Francisco    NaN  \n",
       "4  2011   NaN  San Francisco    NaN  "
      ]
     },
     "execution_count": 14,
     "metadata": {},
     "output_type": "execute_result"
    }
   ],
   "source": [
    "#q3\n",
    "sal.head()"
   ]
  },
  {
   "cell_type": "code",
   "execution_count": 15,
   "id": "8f167365",
   "metadata": {},
   "outputs": [
    {
     "data": {
      "text/html": [
       "<div>\n",
       "<style scoped>\n",
       "    .dataframe tbody tr th:only-of-type {\n",
       "        vertical-align: middle;\n",
       "    }\n",
       "\n",
       "    .dataframe tbody tr th {\n",
       "        vertical-align: top;\n",
       "    }\n",
       "\n",
       "    .dataframe thead th {\n",
       "        text-align: right;\n",
       "    }\n",
       "</style>\n",
       "<table border=\"1\" class=\"dataframe\">\n",
       "  <thead>\n",
       "    <tr style=\"text-align: right;\">\n",
       "      <th></th>\n",
       "      <th>Id</th>\n",
       "      <th>EmployeeName</th>\n",
       "      <th>JobTitle</th>\n",
       "      <th>BasePay</th>\n",
       "      <th>OvertimePay</th>\n",
       "      <th>OtherPay</th>\n",
       "      <th>Benefits</th>\n",
       "      <th>TotalPay</th>\n",
       "      <th>TotalPayBenefits</th>\n",
       "      <th>Year</th>\n",
       "      <th>Notes</th>\n",
       "      <th>Agency</th>\n",
       "      <th>Status</th>\n",
       "    </tr>\n",
       "  </thead>\n",
       "  <tbody>\n",
       "    <tr>\n",
       "      <th>0</th>\n",
       "      <td>1</td>\n",
       "      <td>NATHANIEL FORD</td>\n",
       "      <td>GENERAL MANAGER-METROPOLITAN TRANSIT AUTHORITY</td>\n",
       "      <td>167411.18</td>\n",
       "      <td>0.0</td>\n",
       "      <td>400184.25</td>\n",
       "      <td>NaN</td>\n",
       "      <td>567595.43</td>\n",
       "      <td>567595.43</td>\n",
       "      <td>2011</td>\n",
       "      <td>NaN</td>\n",
       "      <td>San Francisco</td>\n",
       "      <td>NaN</td>\n",
       "    </tr>\n",
       "    <tr>\n",
       "      <th>1</th>\n",
       "      <td>2</td>\n",
       "      <td>GARY JIMENEZ</td>\n",
       "      <td>CAPTAIN III (POLICE DEPARTMENT)</td>\n",
       "      <td>155966.02</td>\n",
       "      <td>245131.88</td>\n",
       "      <td>137811.38</td>\n",
       "      <td>NaN</td>\n",
       "      <td>538909.28</td>\n",
       "      <td>538909.28</td>\n",
       "      <td>2011</td>\n",
       "      <td>NaN</td>\n",
       "      <td>San Francisco</td>\n",
       "      <td>NaN</td>\n",
       "    </tr>\n",
       "    <tr>\n",
       "      <th>2</th>\n",
       "      <td>3</td>\n",
       "      <td>ALBERT PARDINI</td>\n",
       "      <td>CAPTAIN III (POLICE DEPARTMENT)</td>\n",
       "      <td>212739.13</td>\n",
       "      <td>106088.18</td>\n",
       "      <td>16452.6</td>\n",
       "      <td>NaN</td>\n",
       "      <td>335279.91</td>\n",
       "      <td>335279.91</td>\n",
       "      <td>2011</td>\n",
       "      <td>NaN</td>\n",
       "      <td>San Francisco</td>\n",
       "      <td>NaN</td>\n",
       "    </tr>\n",
       "  </tbody>\n",
       "</table>\n",
       "</div>"
      ],
      "text/plain": [
       "  Id    EmployeeName                                        JobTitle  \\\n",
       "0  1  NATHANIEL FORD  GENERAL MANAGER-METROPOLITAN TRANSIT AUTHORITY   \n",
       "1  2    GARY JIMENEZ                 CAPTAIN III (POLICE DEPARTMENT)   \n",
       "2  3  ALBERT PARDINI                 CAPTAIN III (POLICE DEPARTMENT)   \n",
       "\n",
       "     BasePay OvertimePay   OtherPay Benefits   TotalPay TotalPayBenefits  \\\n",
       "0  167411.18         0.0  400184.25      NaN  567595.43        567595.43   \n",
       "1  155966.02   245131.88  137811.38      NaN  538909.28        538909.28   \n",
       "2  212739.13   106088.18    16452.6      NaN  335279.91        335279.91   \n",
       "\n",
       "   Year Notes         Agency Status  \n",
       "0  2011   NaN  San Francisco    NaN  \n",
       "1  2011   NaN  San Francisco    NaN  \n",
       "2  2011   NaN  San Francisco    NaN  "
      ]
     },
     "execution_count": 15,
     "metadata": {},
     "output_type": "execute_result"
    }
   ],
   "source": [
    "sal.head(3)"
   ]
  },
  {
   "cell_type": "code",
   "execution_count": 16,
   "id": "609db6e0",
   "metadata": {},
   "outputs": [
    {
     "name": "stdout",
     "output_type": "stream",
     "text": [
      "<class 'pandas.core.frame.DataFrame'>\n",
      "RangeIndex: 594618 entries, 0 to 594617\n",
      "Data columns (total 13 columns):\n",
      " #   Column            Non-Null Count   Dtype \n",
      "---  ------            --------------   ----- \n",
      " 0   Id                594618 non-null  object\n",
      " 1   EmployeeName      594618 non-null  object\n",
      " 2   JobTitle          594618 non-null  object\n",
      " 3   BasePay           592198 non-null  object\n",
      " 4   OvertimePay       594618 non-null  object\n",
      " 5   OtherPay          594618 non-null  object\n",
      " 6   Benefits          449982 non-null  object\n",
      " 7   TotalPay          594618 non-null  object\n",
      " 8   TotalPayBenefits  594618 non-null  object\n",
      " 9   Year              594618 non-null  object\n",
      " 10  Notes             3 non-null       object\n",
      " 11  Agency            594618 non-null  object\n",
      " 12  Status            152478 non-null  object\n",
      "dtypes: object(13)\n",
      "memory usage: 59.0+ MB\n"
     ]
    }
   ],
   "source": [
    "#q4\n",
    "sal.info()"
   ]
  },
  {
   "cell_type": "code",
   "execution_count": 17,
   "id": "1d752759",
   "metadata": {},
   "outputs": [],
   "source": [
    "#extra"
   ]
  },
  {
   "cell_type": "code",
   "execution_count": 18,
   "id": "054c290f",
   "metadata": {},
   "outputs": [
    {
     "data": {
      "text/html": [
       "<div>\n",
       "<style scoped>\n",
       "    .dataframe tbody tr th:only-of-type {\n",
       "        vertical-align: middle;\n",
       "    }\n",
       "\n",
       "    .dataframe tbody tr th {\n",
       "        vertical-align: top;\n",
       "    }\n",
       "\n",
       "    .dataframe thead th {\n",
       "        text-align: right;\n",
       "    }\n",
       "</style>\n",
       "<table border=\"1\" class=\"dataframe\">\n",
       "  <thead>\n",
       "    <tr style=\"text-align: right;\">\n",
       "      <th></th>\n",
       "      <th>Id</th>\n",
       "      <th>EmployeeName</th>\n",
       "      <th>JobTitle</th>\n",
       "      <th>BasePay</th>\n",
       "      <th>OvertimePay</th>\n",
       "      <th>OtherPay</th>\n",
       "      <th>Benefits</th>\n",
       "      <th>TotalPay</th>\n",
       "      <th>TotalPayBenefits</th>\n",
       "      <th>Year</th>\n",
       "      <th>Notes</th>\n",
       "      <th>Agency</th>\n",
       "      <th>Status</th>\n",
       "    </tr>\n",
       "  </thead>\n",
       "  <tbody>\n",
       "    <tr>\n",
       "      <th>0</th>\n",
       "      <td>1</td>\n",
       "      <td>NATHANIEL FORD</td>\n",
       "      <td>GENERAL MANAGER-METROPOLITAN TRANSIT AUTHORITY</td>\n",
       "      <td>167411.18</td>\n",
       "      <td>0.0</td>\n",
       "      <td>400184.25</td>\n",
       "      <td>NaN</td>\n",
       "      <td>567595.43</td>\n",
       "      <td>567595.43</td>\n",
       "      <td>2011</td>\n",
       "      <td>NaN</td>\n",
       "      <td>San Francisco</td>\n",
       "      <td>NaN</td>\n",
       "    </tr>\n",
       "    <tr>\n",
       "      <th>1</th>\n",
       "      <td>2</td>\n",
       "      <td>GARY JIMENEZ</td>\n",
       "      <td>CAPTAIN III (POLICE DEPARTMENT)</td>\n",
       "      <td>155966.02</td>\n",
       "      <td>245131.88</td>\n",
       "      <td>137811.38</td>\n",
       "      <td>NaN</td>\n",
       "      <td>538909.28</td>\n",
       "      <td>538909.28</td>\n",
       "      <td>2011</td>\n",
       "      <td>NaN</td>\n",
       "      <td>San Francisco</td>\n",
       "      <td>NaN</td>\n",
       "    </tr>\n",
       "    <tr>\n",
       "      <th>2</th>\n",
       "      <td>3</td>\n",
       "      <td>ALBERT PARDINI</td>\n",
       "      <td>CAPTAIN III (POLICE DEPARTMENT)</td>\n",
       "      <td>212739.13</td>\n",
       "      <td>106088.18</td>\n",
       "      <td>16452.6</td>\n",
       "      <td>NaN</td>\n",
       "      <td>335279.91</td>\n",
       "      <td>335279.91</td>\n",
       "      <td>2011</td>\n",
       "      <td>NaN</td>\n",
       "      <td>San Francisco</td>\n",
       "      <td>NaN</td>\n",
       "    </tr>\n",
       "    <tr>\n",
       "      <th>3</th>\n",
       "      <td>4</td>\n",
       "      <td>CHRISTOPHER CHONG</td>\n",
       "      <td>WIRE ROPE CABLE MAINTENANCE MECHANIC</td>\n",
       "      <td>77916.0</td>\n",
       "      <td>56120.71</td>\n",
       "      <td>198306.9</td>\n",
       "      <td>NaN</td>\n",
       "      <td>332343.61</td>\n",
       "      <td>332343.61</td>\n",
       "      <td>2011</td>\n",
       "      <td>NaN</td>\n",
       "      <td>San Francisco</td>\n",
       "      <td>NaN</td>\n",
       "    </tr>\n",
       "    <tr>\n",
       "      <th>4</th>\n",
       "      <td>5</td>\n",
       "      <td>PATRICK GARDNER</td>\n",
       "      <td>DEPUTY CHIEF OF DEPARTMENT,(FIRE DEPARTMENT)</td>\n",
       "      <td>134401.6</td>\n",
       "      <td>9737.0</td>\n",
       "      <td>182234.59</td>\n",
       "      <td>NaN</td>\n",
       "      <td>326373.19</td>\n",
       "      <td>326373.19</td>\n",
       "      <td>2011</td>\n",
       "      <td>NaN</td>\n",
       "      <td>San Francisco</td>\n",
       "      <td>NaN</td>\n",
       "    </tr>\n",
       "    <tr>\n",
       "      <th>...</th>\n",
       "      <td>...</td>\n",
       "      <td>...</td>\n",
       "      <td>...</td>\n",
       "      <td>...</td>\n",
       "      <td>...</td>\n",
       "      <td>...</td>\n",
       "      <td>...</td>\n",
       "      <td>...</td>\n",
       "      <td>...</td>\n",
       "      <td>...</td>\n",
       "      <td>...</td>\n",
       "      <td>...</td>\n",
       "      <td>...</td>\n",
       "    </tr>\n",
       "    <tr>\n",
       "      <th>594613</th>\n",
       "      <td>148650</td>\n",
       "      <td>Roy I Tillery</td>\n",
       "      <td>Custodian</td>\n",
       "      <td>0.00</td>\n",
       "      <td>0.00</td>\n",
       "      <td>0.00</td>\n",
       "      <td>0.00</td>\n",
       "      <td>0.0</td>\n",
       "      <td>0.0</td>\n",
       "      <td>2014</td>\n",
       "      <td>NaN</td>\n",
       "      <td>San Francisco</td>\n",
       "      <td>PT</td>\n",
       "    </tr>\n",
       "    <tr>\n",
       "      <th>594614</th>\n",
       "      <td>148651</td>\n",
       "      <td>NaN</td>\n",
       "      <td>NaN</td>\n",
       "      <td>NaN</td>\n",
       "      <td>NaN</td>\n",
       "      <td>NaN</td>\n",
       "      <td>NaN</td>\n",
       "      <td>0.0</td>\n",
       "      <td>0.0</td>\n",
       "      <td>2014</td>\n",
       "      <td>NaN</td>\n",
       "      <td>San Francisco</td>\n",
       "      <td>NaN</td>\n",
       "    </tr>\n",
       "    <tr>\n",
       "      <th>594615</th>\n",
       "      <td>148652</td>\n",
       "      <td>NaN</td>\n",
       "      <td>NaN</td>\n",
       "      <td>NaN</td>\n",
       "      <td>NaN</td>\n",
       "      <td>NaN</td>\n",
       "      <td>NaN</td>\n",
       "      <td>0.0</td>\n",
       "      <td>0.0</td>\n",
       "      <td>2014</td>\n",
       "      <td>NaN</td>\n",
       "      <td>San Francisco</td>\n",
       "      <td>NaN</td>\n",
       "    </tr>\n",
       "    <tr>\n",
       "      <th>594616</th>\n",
       "      <td>148653</td>\n",
       "      <td>NaN</td>\n",
       "      <td>NaN</td>\n",
       "      <td>NaN</td>\n",
       "      <td>NaN</td>\n",
       "      <td>NaN</td>\n",
       "      <td>NaN</td>\n",
       "      <td>0.0</td>\n",
       "      <td>0.0</td>\n",
       "      <td>2014</td>\n",
       "      <td>NaN</td>\n",
       "      <td>San Francisco</td>\n",
       "      <td>NaN</td>\n",
       "    </tr>\n",
       "    <tr>\n",
       "      <th>594617</th>\n",
       "      <td>148654</td>\n",
       "      <td>Joe Lopez</td>\n",
       "      <td>Counselor, Log Cabin Ranch</td>\n",
       "      <td>0.00</td>\n",
       "      <td>0.00</td>\n",
       "      <td>-618.13</td>\n",
       "      <td>0.00</td>\n",
       "      <td>-618.13</td>\n",
       "      <td>-618.13</td>\n",
       "      <td>2014</td>\n",
       "      <td>NaN</td>\n",
       "      <td>San Francisco</td>\n",
       "      <td>PT</td>\n",
       "    </tr>\n",
       "  </tbody>\n",
       "</table>\n",
       "<p>594618 rows × 13 columns</p>\n",
       "</div>"
      ],
      "text/plain": [
       "            Id       EmployeeName  \\\n",
       "0            1     NATHANIEL FORD   \n",
       "1            2       GARY JIMENEZ   \n",
       "2            3     ALBERT PARDINI   \n",
       "3            4  CHRISTOPHER CHONG   \n",
       "4            5    PATRICK GARDNER   \n",
       "...        ...                ...   \n",
       "594613  148650      Roy I Tillery   \n",
       "594614  148651                NaN   \n",
       "594615  148652                NaN   \n",
       "594616  148653                NaN   \n",
       "594617  148654          Joe Lopez   \n",
       "\n",
       "                                              JobTitle    BasePay OvertimePay  \\\n",
       "0       GENERAL MANAGER-METROPOLITAN TRANSIT AUTHORITY  167411.18         0.0   \n",
       "1                      CAPTAIN III (POLICE DEPARTMENT)  155966.02   245131.88   \n",
       "2                      CAPTAIN III (POLICE DEPARTMENT)  212739.13   106088.18   \n",
       "3                 WIRE ROPE CABLE MAINTENANCE MECHANIC    77916.0    56120.71   \n",
       "4         DEPUTY CHIEF OF DEPARTMENT,(FIRE DEPARTMENT)   134401.6      9737.0   \n",
       "...                                                ...        ...         ...   \n",
       "594613                                       Custodian       0.00        0.00   \n",
       "594614                                             NaN        NaN         NaN   \n",
       "594615                                             NaN        NaN         NaN   \n",
       "594616                                             NaN        NaN         NaN   \n",
       "594617                      Counselor, Log Cabin Ranch       0.00        0.00   \n",
       "\n",
       "         OtherPay Benefits   TotalPay TotalPayBenefits  Year Notes  \\\n",
       "0       400184.25      NaN  567595.43        567595.43  2011   NaN   \n",
       "1       137811.38      NaN  538909.28        538909.28  2011   NaN   \n",
       "2         16452.6      NaN  335279.91        335279.91  2011   NaN   \n",
       "3        198306.9      NaN  332343.61        332343.61  2011   NaN   \n",
       "4       182234.59      NaN  326373.19        326373.19  2011   NaN   \n",
       "...           ...      ...        ...              ...   ...   ...   \n",
       "594613       0.00     0.00        0.0              0.0  2014   NaN   \n",
       "594614        NaN      NaN        0.0              0.0  2014   NaN   \n",
       "594615        NaN      NaN        0.0              0.0  2014   NaN   \n",
       "594616        NaN      NaN        0.0              0.0  2014   NaN   \n",
       "594617    -618.13     0.00    -618.13          -618.13  2014   NaN   \n",
       "\n",
       "               Agency Status  \n",
       "0       San Francisco    NaN  \n",
       "1       San Francisco    NaN  \n",
       "2       San Francisco    NaN  \n",
       "3       San Francisco    NaN  \n",
       "4       San Francisco    NaN  \n",
       "...               ...    ...  \n",
       "594613  San Francisco     PT  \n",
       "594614  San Francisco    NaN  \n",
       "594615  San Francisco    NaN  \n",
       "594616  San Francisco    NaN  \n",
       "594617  San Francisco     PT  \n",
       "\n",
       "[594618 rows x 13 columns]"
      ]
     },
     "execution_count": 18,
     "metadata": {},
     "output_type": "execute_result"
    }
   ],
   "source": [
    "sal = sal.replace('Not Provided',np.nan)\n",
    "sal = sal.replace('Not provided',np.nan)\n",
    "sal"
   ]
  },
  {
   "cell_type": "code",
   "execution_count": 22,
   "id": "4dbbefb4",
   "metadata": {},
   "outputs": [
    {
     "data": {
      "text/html": [
       "<div>\n",
       "<style scoped>\n",
       "    .dataframe tbody tr th:only-of-type {\n",
       "        vertical-align: middle;\n",
       "    }\n",
       "\n",
       "    .dataframe tbody tr th {\n",
       "        vertical-align: top;\n",
       "    }\n",
       "\n",
       "    .dataframe thead th {\n",
       "        text-align: right;\n",
       "    }\n",
       "</style>\n",
       "<table border=\"1\" class=\"dataframe\">\n",
       "  <thead>\n",
       "    <tr style=\"text-align: right;\">\n",
       "      <th></th>\n",
       "      <th>Id</th>\n",
       "      <th>EmployeeName</th>\n",
       "      <th>JobTitle</th>\n",
       "      <th>BasePay</th>\n",
       "      <th>OvertimePay</th>\n",
       "      <th>OtherPay</th>\n",
       "      <th>Benefits</th>\n",
       "      <th>TotalPay</th>\n",
       "      <th>TotalPayBenefits</th>\n",
       "      <th>Year</th>\n",
       "      <th>Notes</th>\n",
       "      <th>Agency</th>\n",
       "      <th>Status</th>\n",
       "    </tr>\n",
       "  </thead>\n",
       "  <tbody>\n",
       "    <tr>\n",
       "      <th>0</th>\n",
       "      <td>1</td>\n",
       "      <td>NATHANIEL FORD</td>\n",
       "      <td>GENERAL MANAGER-METROPOLITAN TRANSIT AUTHORITY</td>\n",
       "      <td>167411.18</td>\n",
       "      <td>0.0</td>\n",
       "      <td>400184.25</td>\n",
       "      <td>NaN</td>\n",
       "      <td>567595.43</td>\n",
       "      <td>567595.43</td>\n",
       "      <td>2011</td>\n",
       "      <td>NaN</td>\n",
       "      <td>San Francisco</td>\n",
       "      <td>NaN</td>\n",
       "    </tr>\n",
       "    <tr>\n",
       "      <th>1</th>\n",
       "      <td>2</td>\n",
       "      <td>GARY JIMENEZ</td>\n",
       "      <td>CAPTAIN III (POLICE DEPARTMENT)</td>\n",
       "      <td>155966.02</td>\n",
       "      <td>245131.88</td>\n",
       "      <td>137811.38</td>\n",
       "      <td>NaN</td>\n",
       "      <td>538909.28</td>\n",
       "      <td>538909.28</td>\n",
       "      <td>2011</td>\n",
       "      <td>NaN</td>\n",
       "      <td>San Francisco</td>\n",
       "      <td>NaN</td>\n",
       "    </tr>\n",
       "    <tr>\n",
       "      <th>2</th>\n",
       "      <td>3</td>\n",
       "      <td>ALBERT PARDINI</td>\n",
       "      <td>CAPTAIN III (POLICE DEPARTMENT)</td>\n",
       "      <td>212739.13</td>\n",
       "      <td>106088.18</td>\n",
       "      <td>16452.6</td>\n",
       "      <td>NaN</td>\n",
       "      <td>335279.91</td>\n",
       "      <td>335279.91</td>\n",
       "      <td>2011</td>\n",
       "      <td>NaN</td>\n",
       "      <td>San Francisco</td>\n",
       "      <td>NaN</td>\n",
       "    </tr>\n",
       "    <tr>\n",
       "      <th>3</th>\n",
       "      <td>4</td>\n",
       "      <td>CHRISTOPHER CHONG</td>\n",
       "      <td>WIRE ROPE CABLE MAINTENANCE MECHANIC</td>\n",
       "      <td>77916.0</td>\n",
       "      <td>56120.71</td>\n",
       "      <td>198306.9</td>\n",
       "      <td>NaN</td>\n",
       "      <td>332343.61</td>\n",
       "      <td>332343.61</td>\n",
       "      <td>2011</td>\n",
       "      <td>NaN</td>\n",
       "      <td>San Francisco</td>\n",
       "      <td>NaN</td>\n",
       "    </tr>\n",
       "    <tr>\n",
       "      <th>4</th>\n",
       "      <td>5</td>\n",
       "      <td>PATRICK GARDNER</td>\n",
       "      <td>DEPUTY CHIEF OF DEPARTMENT,(FIRE DEPARTMENT)</td>\n",
       "      <td>134401.6</td>\n",
       "      <td>9737.0</td>\n",
       "      <td>182234.59</td>\n",
       "      <td>NaN</td>\n",
       "      <td>326373.19</td>\n",
       "      <td>326373.19</td>\n",
       "      <td>2011</td>\n",
       "      <td>NaN</td>\n",
       "      <td>San Francisco</td>\n",
       "      <td>NaN</td>\n",
       "    </tr>\n",
       "    <tr>\n",
       "      <th>...</th>\n",
       "      <td>...</td>\n",
       "      <td>...</td>\n",
       "      <td>...</td>\n",
       "      <td>...</td>\n",
       "      <td>...</td>\n",
       "      <td>...</td>\n",
       "      <td>...</td>\n",
       "      <td>...</td>\n",
       "      <td>...</td>\n",
       "      <td>...</td>\n",
       "      <td>...</td>\n",
       "      <td>...</td>\n",
       "      <td>...</td>\n",
       "    </tr>\n",
       "    <tr>\n",
       "      <th>594613</th>\n",
       "      <td>148650</td>\n",
       "      <td>Roy I Tillery</td>\n",
       "      <td>Custodian</td>\n",
       "      <td>0.00</td>\n",
       "      <td>0.00</td>\n",
       "      <td>0.00</td>\n",
       "      <td>0.00</td>\n",
       "      <td>0.0</td>\n",
       "      <td>0.0</td>\n",
       "      <td>2014</td>\n",
       "      <td>NaN</td>\n",
       "      <td>San Francisco</td>\n",
       "      <td>PT</td>\n",
       "    </tr>\n",
       "    <tr>\n",
       "      <th>594614</th>\n",
       "      <td>148651</td>\n",
       "      <td>NaN</td>\n",
       "      <td>NaN</td>\n",
       "      <td>&lt;NA&gt;</td>\n",
       "      <td>NaN</td>\n",
       "      <td>NaN</td>\n",
       "      <td>NaN</td>\n",
       "      <td>0.0</td>\n",
       "      <td>0.0</td>\n",
       "      <td>2014</td>\n",
       "      <td>NaN</td>\n",
       "      <td>San Francisco</td>\n",
       "      <td>NaN</td>\n",
       "    </tr>\n",
       "    <tr>\n",
       "      <th>594615</th>\n",
       "      <td>148652</td>\n",
       "      <td>NaN</td>\n",
       "      <td>NaN</td>\n",
       "      <td>&lt;NA&gt;</td>\n",
       "      <td>NaN</td>\n",
       "      <td>NaN</td>\n",
       "      <td>NaN</td>\n",
       "      <td>0.0</td>\n",
       "      <td>0.0</td>\n",
       "      <td>2014</td>\n",
       "      <td>NaN</td>\n",
       "      <td>San Francisco</td>\n",
       "      <td>NaN</td>\n",
       "    </tr>\n",
       "    <tr>\n",
       "      <th>594616</th>\n",
       "      <td>148653</td>\n",
       "      <td>NaN</td>\n",
       "      <td>NaN</td>\n",
       "      <td>&lt;NA&gt;</td>\n",
       "      <td>NaN</td>\n",
       "      <td>NaN</td>\n",
       "      <td>NaN</td>\n",
       "      <td>0.0</td>\n",
       "      <td>0.0</td>\n",
       "      <td>2014</td>\n",
       "      <td>NaN</td>\n",
       "      <td>San Francisco</td>\n",
       "      <td>NaN</td>\n",
       "    </tr>\n",
       "    <tr>\n",
       "      <th>594617</th>\n",
       "      <td>148654</td>\n",
       "      <td>Joe Lopez</td>\n",
       "      <td>Counselor, Log Cabin Ranch</td>\n",
       "      <td>0.00</td>\n",
       "      <td>0.00</td>\n",
       "      <td>-618.13</td>\n",
       "      <td>0.00</td>\n",
       "      <td>-618.13</td>\n",
       "      <td>-618.13</td>\n",
       "      <td>2014</td>\n",
       "      <td>NaN</td>\n",
       "      <td>San Francisco</td>\n",
       "      <td>PT</td>\n",
       "    </tr>\n",
       "  </tbody>\n",
       "</table>\n",
       "<p>594618 rows × 13 columns</p>\n",
       "</div>"
      ],
      "text/plain": [
       "            Id       EmployeeName  \\\n",
       "0            1     NATHANIEL FORD   \n",
       "1            2       GARY JIMENEZ   \n",
       "2            3     ALBERT PARDINI   \n",
       "3            4  CHRISTOPHER CHONG   \n",
       "4            5    PATRICK GARDNER   \n",
       "...        ...                ...   \n",
       "594613  148650      Roy I Tillery   \n",
       "594614  148651                NaN   \n",
       "594615  148652                NaN   \n",
       "594616  148653                NaN   \n",
       "594617  148654          Joe Lopez   \n",
       "\n",
       "                                              JobTitle    BasePay OvertimePay  \\\n",
       "0       GENERAL MANAGER-METROPOLITAN TRANSIT AUTHORITY  167411.18         0.0   \n",
       "1                      CAPTAIN III (POLICE DEPARTMENT)  155966.02   245131.88   \n",
       "2                      CAPTAIN III (POLICE DEPARTMENT)  212739.13   106088.18   \n",
       "3                 WIRE ROPE CABLE MAINTENANCE MECHANIC    77916.0    56120.71   \n",
       "4         DEPUTY CHIEF OF DEPARTMENT,(FIRE DEPARTMENT)   134401.6      9737.0   \n",
       "...                                                ...        ...         ...   \n",
       "594613                                       Custodian       0.00        0.00   \n",
       "594614                                             NaN       <NA>         NaN   \n",
       "594615                                             NaN       <NA>         NaN   \n",
       "594616                                             NaN       <NA>         NaN   \n",
       "594617                      Counselor, Log Cabin Ranch       0.00        0.00   \n",
       "\n",
       "         OtherPay Benefits   TotalPay TotalPayBenefits  Year Notes  \\\n",
       "0       400184.25      NaN  567595.43        567595.43  2011   NaN   \n",
       "1       137811.38      NaN  538909.28        538909.28  2011   NaN   \n",
       "2         16452.6      NaN  335279.91        335279.91  2011   NaN   \n",
       "3        198306.9      NaN  332343.61        332343.61  2011   NaN   \n",
       "4       182234.59      NaN  326373.19        326373.19  2011   NaN   \n",
       "...           ...      ...        ...              ...   ...   ...   \n",
       "594613       0.00     0.00        0.0              0.0  2014   NaN   \n",
       "594614        NaN      NaN        0.0              0.0  2014   NaN   \n",
       "594615        NaN      NaN        0.0              0.0  2014   NaN   \n",
       "594616        NaN      NaN        0.0              0.0  2014   NaN   \n",
       "594617    -618.13     0.00    -618.13          -618.13  2014   NaN   \n",
       "\n",
       "               Agency Status  \n",
       "0       San Francisco    NaN  \n",
       "1       San Francisco    NaN  \n",
       "2       San Francisco    NaN  \n",
       "3       San Francisco    NaN  \n",
       "4       San Francisco    NaN  \n",
       "...               ...    ...  \n",
       "594613  San Francisco     PT  \n",
       "594614  San Francisco    NaN  \n",
       "594615  San Francisco    NaN  \n",
       "594616  San Francisco    NaN  \n",
       "594617  San Francisco     PT  \n",
       "\n",
       "[594618 rows x 13 columns]"
      ]
     },
     "execution_count": 22,
     "metadata": {},
     "output_type": "execute_result"
    }
   ],
   "source": [
    "#Question 5\n",
    "sal['BasePay']=sal['BasePay'].astype('string')\n",
    "sal"
   ]
  },
  {
   "cell_type": "code",
   "execution_count": 27,
   "id": "5ce76e67",
   "metadata": {},
   "outputs": [
    {
     "data": {
      "text/html": [
       "<div>\n",
       "<style scoped>\n",
       "    .dataframe tbody tr th:only-of-type {\n",
       "        vertical-align: middle;\n",
       "    }\n",
       "\n",
       "    .dataframe tbody tr th {\n",
       "        vertical-align: top;\n",
       "    }\n",
       "\n",
       "    .dataframe thead th {\n",
       "        text-align: right;\n",
       "    }\n",
       "</style>\n",
       "<table border=\"1\" class=\"dataframe\">\n",
       "  <thead>\n",
       "    <tr style=\"text-align: right;\">\n",
       "      <th></th>\n",
       "      <th>Id</th>\n",
       "      <th>EmployeeName</th>\n",
       "      <th>JobTitle</th>\n",
       "      <th>BasePay</th>\n",
       "      <th>OvertimePay</th>\n",
       "      <th>OtherPay</th>\n",
       "      <th>Benefits</th>\n",
       "      <th>TotalPay</th>\n",
       "      <th>TotalPayBenefits</th>\n",
       "      <th>Year</th>\n",
       "      <th>Notes</th>\n",
       "      <th>Agency</th>\n",
       "      <th>Status</th>\n",
       "    </tr>\n",
       "  </thead>\n",
       "  <tbody>\n",
       "    <tr>\n",
       "      <th>0</th>\n",
       "      <td>1</td>\n",
       "      <td>NATHANIEL FORD</td>\n",
       "      <td>GENERAL MANAGER-METROPOLITAN TRANSIT AUTHORITY</td>\n",
       "      <td>167411.18</td>\n",
       "      <td>0.0</td>\n",
       "      <td>400184.25</td>\n",
       "      <td>NaN</td>\n",
       "      <td>567595.43</td>\n",
       "      <td>567595.43</td>\n",
       "      <td>2011</td>\n",
       "      <td>NaN</td>\n",
       "      <td>San Francisco</td>\n",
       "      <td>NaN</td>\n",
       "    </tr>\n",
       "    <tr>\n",
       "      <th>1</th>\n",
       "      <td>2</td>\n",
       "      <td>GARY JIMENEZ</td>\n",
       "      <td>CAPTAIN III (POLICE DEPARTMENT)</td>\n",
       "      <td>155966.02</td>\n",
       "      <td>245131.88</td>\n",
       "      <td>137811.38</td>\n",
       "      <td>NaN</td>\n",
       "      <td>538909.28</td>\n",
       "      <td>538909.28</td>\n",
       "      <td>2011</td>\n",
       "      <td>NaN</td>\n",
       "      <td>San Francisco</td>\n",
       "      <td>NaN</td>\n",
       "    </tr>\n",
       "    <tr>\n",
       "      <th>2</th>\n",
       "      <td>3</td>\n",
       "      <td>ALBERT PARDINI</td>\n",
       "      <td>CAPTAIN III (POLICE DEPARTMENT)</td>\n",
       "      <td>212739.13</td>\n",
       "      <td>106088.18</td>\n",
       "      <td>16452.6</td>\n",
       "      <td>NaN</td>\n",
       "      <td>335279.91</td>\n",
       "      <td>335279.91</td>\n",
       "      <td>2011</td>\n",
       "      <td>NaN</td>\n",
       "      <td>San Francisco</td>\n",
       "      <td>NaN</td>\n",
       "    </tr>\n",
       "    <tr>\n",
       "      <th>3</th>\n",
       "      <td>4</td>\n",
       "      <td>CHRISTOPHER CHONG</td>\n",
       "      <td>WIRE ROPE CABLE MAINTENANCE MECHANIC</td>\n",
       "      <td>77916.0</td>\n",
       "      <td>56120.71</td>\n",
       "      <td>198306.9</td>\n",
       "      <td>NaN</td>\n",
       "      <td>332343.61</td>\n",
       "      <td>332343.61</td>\n",
       "      <td>2011</td>\n",
       "      <td>NaN</td>\n",
       "      <td>San Francisco</td>\n",
       "      <td>NaN</td>\n",
       "    </tr>\n",
       "    <tr>\n",
       "      <th>4</th>\n",
       "      <td>5</td>\n",
       "      <td>PATRICK GARDNER</td>\n",
       "      <td>DEPUTY CHIEF OF DEPARTMENT,(FIRE DEPARTMENT)</td>\n",
       "      <td>134401.6</td>\n",
       "      <td>9737.0</td>\n",
       "      <td>182234.59</td>\n",
       "      <td>NaN</td>\n",
       "      <td>326373.19</td>\n",
       "      <td>326373.19</td>\n",
       "      <td>2011</td>\n",
       "      <td>NaN</td>\n",
       "      <td>San Francisco</td>\n",
       "      <td>NaN</td>\n",
       "    </tr>\n",
       "    <tr>\n",
       "      <th>...</th>\n",
       "      <td>...</td>\n",
       "      <td>...</td>\n",
       "      <td>...</td>\n",
       "      <td>...</td>\n",
       "      <td>...</td>\n",
       "      <td>...</td>\n",
       "      <td>...</td>\n",
       "      <td>...</td>\n",
       "      <td>...</td>\n",
       "      <td>...</td>\n",
       "      <td>...</td>\n",
       "      <td>...</td>\n",
       "      <td>...</td>\n",
       "    </tr>\n",
       "    <tr>\n",
       "      <th>594613</th>\n",
       "      <td>148650</td>\n",
       "      <td>Roy I Tillery</td>\n",
       "      <td>Custodian</td>\n",
       "      <td>0.00</td>\n",
       "      <td>0.00</td>\n",
       "      <td>0.00</td>\n",
       "      <td>0.00</td>\n",
       "      <td>0.0</td>\n",
       "      <td>0.0</td>\n",
       "      <td>2014</td>\n",
       "      <td>NaN</td>\n",
       "      <td>San Francisco</td>\n",
       "      <td>PT</td>\n",
       "    </tr>\n",
       "    <tr>\n",
       "      <th>594614</th>\n",
       "      <td>148651</td>\n",
       "      <td>NaN</td>\n",
       "      <td>NaN</td>\n",
       "      <td>&lt;NA&gt;</td>\n",
       "      <td>&lt;NA&gt;</td>\n",
       "      <td>NaN</td>\n",
       "      <td>NaN</td>\n",
       "      <td>0.0</td>\n",
       "      <td>0.0</td>\n",
       "      <td>2014</td>\n",
       "      <td>NaN</td>\n",
       "      <td>San Francisco</td>\n",
       "      <td>NaN</td>\n",
       "    </tr>\n",
       "    <tr>\n",
       "      <th>594615</th>\n",
       "      <td>148652</td>\n",
       "      <td>NaN</td>\n",
       "      <td>NaN</td>\n",
       "      <td>&lt;NA&gt;</td>\n",
       "      <td>&lt;NA&gt;</td>\n",
       "      <td>NaN</td>\n",
       "      <td>NaN</td>\n",
       "      <td>0.0</td>\n",
       "      <td>0.0</td>\n",
       "      <td>2014</td>\n",
       "      <td>NaN</td>\n",
       "      <td>San Francisco</td>\n",
       "      <td>NaN</td>\n",
       "    </tr>\n",
       "    <tr>\n",
       "      <th>594616</th>\n",
       "      <td>148653</td>\n",
       "      <td>NaN</td>\n",
       "      <td>NaN</td>\n",
       "      <td>&lt;NA&gt;</td>\n",
       "      <td>&lt;NA&gt;</td>\n",
       "      <td>NaN</td>\n",
       "      <td>NaN</td>\n",
       "      <td>0.0</td>\n",
       "      <td>0.0</td>\n",
       "      <td>2014</td>\n",
       "      <td>NaN</td>\n",
       "      <td>San Francisco</td>\n",
       "      <td>NaN</td>\n",
       "    </tr>\n",
       "    <tr>\n",
       "      <th>594617</th>\n",
       "      <td>148654</td>\n",
       "      <td>Joe Lopez</td>\n",
       "      <td>Counselor, Log Cabin Ranch</td>\n",
       "      <td>0.00</td>\n",
       "      <td>0.00</td>\n",
       "      <td>-618.13</td>\n",
       "      <td>0.00</td>\n",
       "      <td>-618.13</td>\n",
       "      <td>-618.13</td>\n",
       "      <td>2014</td>\n",
       "      <td>NaN</td>\n",
       "      <td>San Francisco</td>\n",
       "      <td>PT</td>\n",
       "    </tr>\n",
       "  </tbody>\n",
       "</table>\n",
       "<p>594618 rows × 13 columns</p>\n",
       "</div>"
      ],
      "text/plain": [
       "            Id       EmployeeName  \\\n",
       "0            1     NATHANIEL FORD   \n",
       "1            2       GARY JIMENEZ   \n",
       "2            3     ALBERT PARDINI   \n",
       "3            4  CHRISTOPHER CHONG   \n",
       "4            5    PATRICK GARDNER   \n",
       "...        ...                ...   \n",
       "594613  148650      Roy I Tillery   \n",
       "594614  148651                NaN   \n",
       "594615  148652                NaN   \n",
       "594616  148653                NaN   \n",
       "594617  148654          Joe Lopez   \n",
       "\n",
       "                                              JobTitle    BasePay OvertimePay  \\\n",
       "0       GENERAL MANAGER-METROPOLITAN TRANSIT AUTHORITY  167411.18         0.0   \n",
       "1                      CAPTAIN III (POLICE DEPARTMENT)  155966.02   245131.88   \n",
       "2                      CAPTAIN III (POLICE DEPARTMENT)  212739.13   106088.18   \n",
       "3                 WIRE ROPE CABLE MAINTENANCE MECHANIC    77916.0    56120.71   \n",
       "4         DEPUTY CHIEF OF DEPARTMENT,(FIRE DEPARTMENT)   134401.6      9737.0   \n",
       "...                                                ...        ...         ...   \n",
       "594613                                       Custodian       0.00        0.00   \n",
       "594614                                             NaN       <NA>        <NA>   \n",
       "594615                                             NaN       <NA>        <NA>   \n",
       "594616                                             NaN       <NA>        <NA>   \n",
       "594617                      Counselor, Log Cabin Ranch       0.00        0.00   \n",
       "\n",
       "         OtherPay Benefits   TotalPay TotalPayBenefits  Year Notes  \\\n",
       "0       400184.25      NaN  567595.43        567595.43  2011   NaN   \n",
       "1       137811.38      NaN  538909.28        538909.28  2011   NaN   \n",
       "2         16452.6      NaN  335279.91        335279.91  2011   NaN   \n",
       "3        198306.9      NaN  332343.61        332343.61  2011   NaN   \n",
       "4       182234.59      NaN  326373.19        326373.19  2011   NaN   \n",
       "...           ...      ...        ...              ...   ...   ...   \n",
       "594613       0.00     0.00        0.0              0.0  2014   NaN   \n",
       "594614        NaN      NaN        0.0              0.0  2014   NaN   \n",
       "594615        NaN      NaN        0.0              0.0  2014   NaN   \n",
       "594616        NaN      NaN        0.0              0.0  2014   NaN   \n",
       "594617    -618.13     0.00    -618.13          -618.13  2014   NaN   \n",
       "\n",
       "               Agency Status  \n",
       "0       San Francisco    NaN  \n",
       "1       San Francisco    NaN  \n",
       "2       San Francisco    NaN  \n",
       "3       San Francisco    NaN  \n",
       "4       San Francisco    NaN  \n",
       "...               ...    ...  \n",
       "594613  San Francisco     PT  \n",
       "594614  San Francisco    NaN  \n",
       "594615  San Francisco    NaN  \n",
       "594616  San Francisco    NaN  \n",
       "594617  San Francisco     PT  \n",
       "\n",
       "[594618 rows x 13 columns]"
      ]
     },
     "execution_count": 27,
     "metadata": {},
     "output_type": "execute_result"
    }
   ],
   "source": [
    "#Question 6\n",
    "sal['OvertimePay']=sal['OvertimePay'].astype('string')\n",
    "sal"
   ]
  },
  {
   "cell_type": "code",
   "execution_count": 28,
   "id": "26a89e55",
   "metadata": {},
   "outputs": [
    {
     "data": {
      "text/plain": [
       "24        CAPTAIN, FIRE SUPPRESSION\n",
       "148659    CAPTAIN, FIRE SUPPRESSION\n",
       "297314    CAPTAIN, FIRE SUPPRESSION\n",
       "445969    CAPTAIN, FIRE SUPPRESSION\n",
       "Name: JobTitle, dtype: object"
      ]
     },
     "execution_count": 28,
     "metadata": {},
     "output_type": "execute_result"
    }
   ],
   "source": [
    "#Question 7\n",
    "sal[sal['EmployeeName']=='JOSEPH DRISCOLL']['JobTitle']"
   ]
  },
  {
   "cell_type": "code",
   "execution_count": 29,
   "id": "9f4462f3",
   "metadata": {},
   "outputs": [
    {
     "data": {
      "text/plain": [
       "24        270324.91\n",
       "148659    270324.91\n",
       "297314    270324.91\n",
       "445969    270324.91\n",
       "Name: TotalPayBenefits, dtype: object"
      ]
     },
     "execution_count": 29,
     "metadata": {},
     "output_type": "execute_result"
    }
   ],
   "source": [
    "#Question 8\n",
    "sal[sal['EmployeeName']=='JOSEPH DRISCOLL']['TotalPayBenefits']"
   ]
  },
  {
   "cell_type": "code",
   "execution_count": 34,
   "id": "d219516d",
   "metadata": {},
   "outputs": [],
   "source": [
    "#Question 9\n"
   ]
  },
  {
   "cell_type": "code",
   "execution_count": 3,
   "id": "f42a029b",
   "metadata": {},
   "outputs": [
    {
     "ename": "NameError",
     "evalue": "name 'sal' is not defined",
     "output_type": "error",
     "traceback": [
      "\u001b[1;31m---------------------------------------------------------------------------\u001b[0m",
      "\u001b[1;31mNameError\u001b[0m                                 Traceback (most recent call last)",
      "Cell \u001b[1;32mIn[3], line 2\u001b[0m\n\u001b[0;32m      1\u001b[0m \u001b[38;5;66;03m#or\u001b[39;00m\n\u001b[1;32m----> 2\u001b[0m \u001b[43msal\u001b[49m\u001b[38;5;241m.\u001b[39mloc[sal[\u001b[38;5;124m'\u001b[39m\u001b[38;5;124mTotalPayBenefits\u001b[39m\u001b[38;5;124m'\u001b[39m]\u001b[38;5;241m.\u001b[39midxmax()]\n",
      "\u001b[1;31mNameError\u001b[0m: name 'sal' is not defined"
     ]
    }
   ],
   "source": [
    "#or\n",
    "sal.loc[sal['TotalPayBenefits'].idxmax()]"
   ]
  },
  {
   "cell_type": "code",
   "execution_count": null,
   "id": "2eec3080",
   "metadata": {},
   "outputs": [],
   "source": [
    "#Question 10\n",
    "sal[sal['TotalPayBenefits']== sal['TotalPayBenefits'].min()]"
   ]
  },
  {
   "cell_type": "code",
   "execution_count": null,
   "id": "13eede5d",
   "metadata": {},
   "outputs": [],
   "source": [
    "#or\n",
    "sal.loc[sal['TotalPayBenefits'].idxmax()]['EmployeeName']"
   ]
  },
  {
   "cell_type": "code",
   "execution_count": null,
   "id": "1b224703",
   "metadata": {},
   "outputs": [],
   "source": [
    "#Question 11\n",
    "sal.groupby('Year').mean()['BasePay']"
   ]
  },
  {
   "cell_type": "code",
   "execution_count": null,
   "id": "722fa57a",
   "metadata": {},
   "outputs": [],
   "source": [
    "#Question 12\n",
    "sal['JobTitle'].nunique()"
   ]
  },
  {
   "cell_type": "code",
   "execution_count": null,
   "id": "be7da93f",
   "metadata": {},
   "outputs": [],
   "source": [
    "#Question 13\n",
    "sal['JobTitle'].value_counts().head(5)"
   ]
  },
  {
   "cell_type": "code",
   "execution_count": null,
   "id": "6c19ec2f",
   "metadata": {},
   "outputs": [],
   "source": [
    "#Question 14\n",
    "sum(sal[sal['Year']==2013]['JobTitle'].value_counts() == 1)"
   ]
  },
  {
   "cell_type": "code",
   "execution_count": null,
   "id": "862bea0e",
   "metadata": {},
   "outputs": [],
   "source": [
    "#Question 15\n",
    "def chief_string(title):\n",
    "    if 'chief' in title.lower():\n",
    "        return True\n",
    "    else:\n",
    "        return False"
   ]
  },
  {
   "cell_type": "code",
   "execution_count": null,
   "id": "bd3bfc15",
   "metadata": {},
   "outputs": [],
   "source": [
    "#Question 16\n",
    "sal['title_len'] = sal['JobTitle'].apply(len)"
   ]
  },
  {
   "cell_type": "code",
   "execution_count": 36,
   "id": "8156422b",
   "metadata": {},
   "outputs": [
    {
     "ename": "KeyError",
     "evalue": "\"['title_len'] not in index\"",
     "output_type": "error",
     "traceback": [
      "\u001b[1;31m---------------------------------------------------------------------------\u001b[0m",
      "\u001b[1;31mKeyError\u001b[0m                                  Traceback (most recent call last)",
      "Cell \u001b[1;32mIn[36], line 2\u001b[0m\n\u001b[0;32m      1\u001b[0m \u001b[38;5;66;03m# Question 17\u001b[39;00m\n\u001b[1;32m----> 2\u001b[0m \u001b[43msal\u001b[49m\u001b[43m[\u001b[49m\u001b[43m[\u001b[49m\u001b[38;5;124;43m'\u001b[39;49m\u001b[38;5;124;43mtitle_len\u001b[39;49m\u001b[38;5;124;43m'\u001b[39;49m\u001b[43m,\u001b[49m\u001b[38;5;124;43m'\u001b[39;49m\u001b[38;5;124;43mTotalPayBenefits\u001b[39;49m\u001b[38;5;124;43m'\u001b[39;49m\u001b[43m]\u001b[49m\u001b[43m]\u001b[49m\u001b[38;5;241m.\u001b[39mcorr()\n",
      "File \u001b[1;32m~\\anaconda3\\Lib\\site-packages\\pandas\\core\\frame.py:3767\u001b[0m, in \u001b[0;36mDataFrame.__getitem__\u001b[1;34m(self, key)\u001b[0m\n\u001b[0;32m   3765\u001b[0m     \u001b[38;5;28;01mif\u001b[39;00m is_iterator(key):\n\u001b[0;32m   3766\u001b[0m         key \u001b[38;5;241m=\u001b[39m \u001b[38;5;28mlist\u001b[39m(key)\n\u001b[1;32m-> 3767\u001b[0m     indexer \u001b[38;5;241m=\u001b[39m \u001b[38;5;28;43mself\u001b[39;49m\u001b[38;5;241;43m.\u001b[39;49m\u001b[43mcolumns\u001b[49m\u001b[38;5;241;43m.\u001b[39;49m\u001b[43m_get_indexer_strict\u001b[49m\u001b[43m(\u001b[49m\u001b[43mkey\u001b[49m\u001b[43m,\u001b[49m\u001b[43m \u001b[49m\u001b[38;5;124;43m\"\u001b[39;49m\u001b[38;5;124;43mcolumns\u001b[39;49m\u001b[38;5;124;43m\"\u001b[39;49m\u001b[43m)\u001b[49m[\u001b[38;5;241m1\u001b[39m]\n\u001b[0;32m   3769\u001b[0m \u001b[38;5;66;03m# take() does not accept boolean indexers\u001b[39;00m\n\u001b[0;32m   3770\u001b[0m \u001b[38;5;28;01mif\u001b[39;00m \u001b[38;5;28mgetattr\u001b[39m(indexer, \u001b[38;5;124m\"\u001b[39m\u001b[38;5;124mdtype\u001b[39m\u001b[38;5;124m\"\u001b[39m, \u001b[38;5;28;01mNone\u001b[39;00m) \u001b[38;5;241m==\u001b[39m \u001b[38;5;28mbool\u001b[39m:\n",
      "File \u001b[1;32m~\\anaconda3\\Lib\\site-packages\\pandas\\core\\indexes\\base.py:5877\u001b[0m, in \u001b[0;36mIndex._get_indexer_strict\u001b[1;34m(self, key, axis_name)\u001b[0m\n\u001b[0;32m   5874\u001b[0m \u001b[38;5;28;01melse\u001b[39;00m:\n\u001b[0;32m   5875\u001b[0m     keyarr, indexer, new_indexer \u001b[38;5;241m=\u001b[39m \u001b[38;5;28mself\u001b[39m\u001b[38;5;241m.\u001b[39m_reindex_non_unique(keyarr)\n\u001b[1;32m-> 5877\u001b[0m \u001b[38;5;28;43mself\u001b[39;49m\u001b[38;5;241;43m.\u001b[39;49m\u001b[43m_raise_if_missing\u001b[49m\u001b[43m(\u001b[49m\u001b[43mkeyarr\u001b[49m\u001b[43m,\u001b[49m\u001b[43m \u001b[49m\u001b[43mindexer\u001b[49m\u001b[43m,\u001b[49m\u001b[43m \u001b[49m\u001b[43maxis_name\u001b[49m\u001b[43m)\u001b[49m\n\u001b[0;32m   5879\u001b[0m keyarr \u001b[38;5;241m=\u001b[39m \u001b[38;5;28mself\u001b[39m\u001b[38;5;241m.\u001b[39mtake(indexer)\n\u001b[0;32m   5880\u001b[0m \u001b[38;5;28;01mif\u001b[39;00m \u001b[38;5;28misinstance\u001b[39m(key, Index):\n\u001b[0;32m   5881\u001b[0m     \u001b[38;5;66;03m# GH 42790 - Preserve name from an Index\u001b[39;00m\n",
      "File \u001b[1;32m~\\anaconda3\\Lib\\site-packages\\pandas\\core\\indexes\\base.py:5941\u001b[0m, in \u001b[0;36mIndex._raise_if_missing\u001b[1;34m(self, key, indexer, axis_name)\u001b[0m\n\u001b[0;32m   5938\u001b[0m     \u001b[38;5;28;01mraise\u001b[39;00m \u001b[38;5;167;01mKeyError\u001b[39;00m(\u001b[38;5;124mf\u001b[39m\u001b[38;5;124m\"\u001b[39m\u001b[38;5;124mNone of [\u001b[39m\u001b[38;5;132;01m{\u001b[39;00mkey\u001b[38;5;132;01m}\u001b[39;00m\u001b[38;5;124m] are in the [\u001b[39m\u001b[38;5;132;01m{\u001b[39;00maxis_name\u001b[38;5;132;01m}\u001b[39;00m\u001b[38;5;124m]\u001b[39m\u001b[38;5;124m\"\u001b[39m)\n\u001b[0;32m   5940\u001b[0m not_found \u001b[38;5;241m=\u001b[39m \u001b[38;5;28mlist\u001b[39m(ensure_index(key)[missing_mask\u001b[38;5;241m.\u001b[39mnonzero()[\u001b[38;5;241m0\u001b[39m]]\u001b[38;5;241m.\u001b[39munique())\n\u001b[1;32m-> 5941\u001b[0m \u001b[38;5;28;01mraise\u001b[39;00m \u001b[38;5;167;01mKeyError\u001b[39;00m(\u001b[38;5;124mf\u001b[39m\u001b[38;5;124m\"\u001b[39m\u001b[38;5;132;01m{\u001b[39;00mnot_found\u001b[38;5;132;01m}\u001b[39;00m\u001b[38;5;124m not in index\u001b[39m\u001b[38;5;124m\"\u001b[39m)\n",
      "\u001b[1;31mKeyError\u001b[0m: \"['title_len'] not in index\""
     ]
    }
   ],
   "source": [
    "# Question 17\n",
    "sal[['title_len','TotalPayBenefits']].corr()"
   ]
  },
  {
   "cell_type": "code",
   "execution_count": 4,
   "id": "69d2e644",
   "metadata": {},
   "outputs": [
    {
     "ename": "AttributeError",
     "evalue": "'set' object has no attribute 'max'",
     "output_type": "error",
     "traceback": [
      "\u001b[1;31m---------------------------------------------------------------------------\u001b[0m",
      "\u001b[1;31mAttributeError\u001b[0m                            Traceback (most recent call last)",
      "Cell \u001b[1;32mIn[4], line 2\u001b[0m\n\u001b[0;32m      1\u001b[0m a\u001b[38;5;241m=\u001b[39m{\u001b[38;5;241m0\u001b[39m,\u001b[38;5;241m1\u001b[39m,\u001b[38;5;241m2\u001b[39m,\u001b[38;5;241m3\u001b[39m}\n\u001b[1;32m----> 2\u001b[0m \u001b[43ma\u001b[49m\u001b[38;5;241;43m.\u001b[39;49m\u001b[43mmax\u001b[49m()\n",
      "\u001b[1;31mAttributeError\u001b[0m: 'set' object has no attribute 'max'"
     ]
    }
   ],
   "source": [
    "a={0,1,2,3}\n",
    "a.max()\n"
   ]
  },
  {
   "cell_type": "code",
   "execution_count": null,
   "id": "643df65f",
   "metadata": {},
   "outputs": [],
   "source": []
  }
 ],
 "metadata": {
  "kernelspec": {
   "display_name": "Python 3 (ipykernel)",
   "language": "python",
   "name": "python3"
  },
  "language_info": {
   "codemirror_mode": {
    "name": "ipython",
    "version": 3
   },
   "file_extension": ".py",
   "mimetype": "text/x-python",
   "name": "python",
   "nbconvert_exporter": "python",
   "pygments_lexer": "ipython3",
   "version": "3.11.5"
  }
 },
 "nbformat": 4,
 "nbformat_minor": 5
}
